{
 "metadata": {
  "name": "",
  "signature": "sha256:8061d7a479cdaf1425cb005a44354acf50d229b13bacc3372ac55fdfdf2f3934"
 },
 "nbformat": 3,
 "nbformat_minor": 0,
 "worksheets": [
  {
   "cells": [
    {
     "cell_type": "heading",
     "level": 1,
     "metadata": {},
     "source": [
      "Scientific Programming with Python"
     ]
    },
    {
     "cell_type": "heading",
     "level": 3,
     "metadata": {},
     "source": [
      "Interacting with python"
     ]
    },
    {
     "cell_type": "markdown",
     "metadata": {},
     "source": [
      "Today, we will interact with python in two ways:\n",
      "\n",
      "1. Directly on the python command prompt:\n",
      "    \n",
      "        mgibson@genomic:~$ python\n",
      "        Python 2.7.6 (default, Mar 22 2014, 22:59:56) \n",
      "        [GCC 4.8.2] on linux2\n",
      "        Type \"help\", \"copyright\", \"credits\" or \"license\" for more information.\n",
      "        >>> \n",
      "        \n",
      "   Tip: to exit back to the unix command line:\n",
      "        >>> exit()\n",
      "        mgibson@genomic:~$ \n",
      "        \n",
      "2. Writing scripts and executing them from the unix command line:\n",
      "\n",
      "        mgibson@genomic:~$ python hello_world.py \n",
      "        hello world!\n",
      "        "
     ]
    },
    {
     "cell_type": "heading",
     "level": 1,
     "metadata": {},
     "source": [
      "The Basics: Variables, Operators, Functions, and Methods"
     ]
    },
    {
     "cell_type": "markdown",
     "metadata": {},
     "source": [
      "Before we can start building useful programs to analyze our data, we need to understand a few basic concepts and syntax that are common to all programs. "
     ]
    },
    {
     "cell_type": "heading",
     "level": 2,
     "metadata": {},
     "source": [
      "Variables"
     ]
    },
    {
     "cell_type": "markdown",
     "metadata": {},
     "source": [
      "The most basic component of any programming language are \"things\", also called **variables** or\n",
      "(in special cases) objects.\n",
      "\n",
      "The most common basic \"things\" in Python are **integers, floats, strings, booleans**, and\n",
      "some special objects of various types. We'll meet many of these as we go through the lesson.\n",
      "\n",
      "'Things' can be stored as variables:\n",
      "    >>> a = 2\n",
      "    >>> b = 'hello'\n",
      "    >>> c = True\n",
      "    >>> d = 1.0\n",
      "    >>> a, b, c, d\n",
      "    2 hello True 1.0\n",
      "    \n",
      "Variables have 'types':\n",
      "    >>> type(a)\n",
      "    <type 'int'>\n",
      "    >>> type(b)\n",
      "    <type 'str'>\n",
      "    >>> type(c)\n",
      "    <type 'bool'>\n",
      "    >>> type(d)\n",
      "    <type 'float'>"
     ]
    },
    {
     "cell_type": "heading",
     "level": 2,
     "metadata": {},
     "source": [
      "Working with Variables"
     ]
    },
    {
     "cell_type": "markdown",
     "metadata": {},
     "source": [
      "Just storing data in variables isn't much use to us. Right away, we'd like to start performing\n",
      "operations and manipulations on data and variables.\n",
      "\n",
      "There are three very common means of performing an operation on a thing or variable:\n",
      "1. Operators\n",
      "2. Functions\n",
      "3. Methods"
     ]
    },
    {
     "cell_type": "heading",
     "level": 2,
     "metadata": {},
     "source": [
      "1. Operators"
     ]
    },
    {
     "cell_type": "markdown",
     "metadata": {},
     "source": [
      "Most of the basic math operators work like you think they should for numbers:\n",
      "\n",
      "    >>> a = 2\n",
      "    >>> b = 3\n",
      "    >>> a + b\n",
      "    5\n",
      "    >>> a * b\n",
      "    6\n",
      "    >>> a ** b\n",
      "    8\n",
      "\n",
      "Except for division. \n",
      "    \n",
      "    >>> 2 / 3\n",
      "    0\n",
      "    >>> 2 / 3.0\n",
      "    0.666666666667\n",
      "\n",
      "Also watch out for exponentiation - you want **, not ^.\n",
      "\n",
      "    >>> 2 ** 3\n",
      "    8\n",
      "    >>> 2 ^ 3\n",
      "    1\n",
      "    \n",
      "There are also operators for strings.\n",
      "\n",
      "    >>> 'hello' + 'world'\n",
      "    helloworld\n",
      "    >>> 'hello' * 3\n",
      "    hellohellohello\n",
      "    \n",
      "Boolean operators compare two things.\n",
      "\n",
      "    >>> a = (1 > 3)\n",
      "    >>> b = (3 == 3)\n",
      "    >>> a\n",
      "    False\n",
      "    >>> b\n",
      "    True\n",
      "    >>> a or b\n",
      "    True\n",
      "    >>> a and b\n",
      "    False"
     ]
    },
    {
     "cell_type": "heading",
     "level": 2,
     "metadata": {},
     "source": [
      "2. Functions"
     ]
    },
    {
     "cell_type": "markdown",
     "metadata": {},
     "source": [
      "A **function** is a block of organized, reusable code that is used to perform a single, related action. Functions provide better modularity for your program and a high degree of code reusing.\n",
      "\n",
      "Python gives you many built-in functions. We have already used a function: <code>type()</code>. This function takes a variable and returns the type of that variable. You can also create your own functions -- we will come back to this soon. \n",
      "\n",
      "Some more examples of built-in functions:\n",
      "\n",
      "    >>> type(3)\n",
      "    <type 'int'>\n",
      "    >>> len('hello')\n",
      "    5\n",
      "    >>> round(3.3)\n",
      "    3.0\n",
      "    \n",
      "Many useful functions are not in the Python built in library, but are in external\n",
      "scientific **packages**. These need to be imported into your Python notebook (or program) before\n",
      "they can be used. One of the most important of these for scientific programming is [numpy](http://www.numpy.org/). \n",
      "\n",
      "Let's import numpy:\n",
      "\n",
      "    >>> import numpy\n",
      "    \n",
      "To use a **function** called <code>sqrt</code> to calculate the square root from the **package** numpy, use the '.' (dot) notation:\n",
      "\n",
      "    >>> print numpy.sqrt(4)\n",
      "    2.0\n",
      "    \n",
      "Numpy also defines important variables:\n",
      "\n",
      "    >>> print numpy.pi  # Not a function, just a variable\n",
      "    3.14159265359\n",
      "    \n",
      "We can also manipulate these specially definied variables:\n",
      "\n",
      "    >>> print numpy.sin(np.pi)\n",
      "    1.22464679915e-16"
     ]
    },
    {
     "cell_type": "heading",
     "level": 2,
     "metadata": {},
     "source": [
      "3. Methods"
     ]
    },
    {
     "cell_type": "markdown",
     "metadata": {},
     "source": [
      "Before we get any farther into the Python language, we have to say a word about \"objects\". We\n",
      "will not be teaching object oriented programming in this workshop, but you will encounter objects\n",
      "throughout Python (in fact, even seemingly simple things like ints and strings are actually\n",
      "objects in Python).\n",
      "\n",
      "In the simplest terms, you can think of an object as a small bundled \"thing\" that contains within\n",
      "itself both (1) data and (2) functions that operate on that data. For example, strings in Python are\n",
      "objects that contain a set of characters and also various functions that operate on the set of\n",
      "characters. When bundled in an object, these functions are called \"methods\".\n",
      "\n",
      "Instead of the \"normal\" `function(arguments)` syntax, methods are called using the\n",
      "syntax `variable.method(arguments)`.\n",
      "\n",
      "\n",
      "A string is actually an object:\n",
      "\n",
      "    >>> a = 'hello, world'\n",
      "    >>> print type(a)\n",
      "    <type 'str'>\n",
      "\n",
      "Objects have bundled methods:\n",
      "    \n",
      "    >>> a.capitalize()\n",
      "    Hello, world\n",
      "    >>> a.replace('l', 'X')\n",
      "    heXXo, worXd"
     ]
    }
   ],
   "metadata": {}
  }
 ]
}