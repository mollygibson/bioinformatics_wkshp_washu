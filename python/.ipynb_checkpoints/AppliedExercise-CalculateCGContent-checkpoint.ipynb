{
 "metadata": {
  "name": "",
  "signature": "sha256:27c05d80680e63f77d93a60bd75e9105b704d6569e0469bcb0f8bf16c28a8560"
 },
 "nbformat": 3,
 "nbformat_minor": 0,
 "worksheets": []
}