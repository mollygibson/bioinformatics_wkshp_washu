{
 "metadata": {
  "name": "",
  "signature": "sha256:c2a4c3ca22267f71a32d55c6ab2f96134bcbc8d56d8c45ef30551a9f28bbac87"
 },
 "nbformat": 3,
 "nbformat_minor": 0,
 "worksheets": [
  {
   "cells": [
    {
     "cell_type": "heading",
     "level": 1,
     "metadata": {},
     "source": [
      "Scientific Programming with Python"
     ]
    },
    {
     "cell_type": "heading",
     "level": 3,
     "metadata": {},
     "source": [
      "Interacting with python"
     ]
    },
    {
     "cell_type": "markdown",
     "metadata": {},
     "source": [
      "Today, we will interact with python in two ways:\n",
      "\n",
      "1. Directly on the python command prompt:\n",
      "    \n",
      "        mgibson@genomic:~$ python\n",
      "        Python 2.7.6 (default, Mar 22 2014, 22:59:56) \n",
      "        [GCC 4.8.2] on linux2\n",
      "        Type \"help\", \"copyright\", \"credits\" or \"license\" for more information.\n",
      "        >>> \n",
      "        \n",
      "   Tip: to exit back to the unix command line:\n",
      "        >>> exit()\n",
      "        mgibson@genomic:~$ \n",
      "        \n",
      "2. Writing scripts and executing them from the unix command line:\n",
      "\n",
      "        mgibson@genomic:~$ python hello_world.py \n",
      "        hello world!\n",
      "        "
     ]
    },
    {
     "cell_type": "heading",
     "level": 1,
     "metadata": {},
     "source": [
      "The Basics: Variables, Operators, Functions, and Methods"
     ]
    },
    {
     "cell_type": "markdown",
     "metadata": {},
     "source": [
      "Before we can start building useful programs to analyze our data, we need to understand a few basic concepts and syntax that are common to all programs. "
     ]
    },
    {
     "cell_type": "heading",
     "level": 2,
     "metadata": {},
     "source": [
      "Variables"
     ]
    },
    {
     "cell_type": "markdown",
     "metadata": {},
     "source": [
      "The most basic component of any programming language are \"things\", also called **variables** or\n",
      "(in special cases) objects.\n",
      "\n",
      "The most common basic \"things\" in Python are **integers, floats, strings, booleans**, and\n",
      "some special objects of various types. We'll meet many of these as we go through the lesson.\n",
      "\n",
      "'Things' can be stored as variables:\n",
      "    >>> a = 2\n",
      "    >>> b = 'hello'\n",
      "    >>> c = True\n",
      "    >>> d = 1.0\n",
      "    >>> print a, b, c, d\n",
      "    2 hello True 1.0\n",
      "    \n",
      "Variables have 'types':\n",
      "    >>> print type(a)\n",
      "    <type 'int'>\n",
      "    >>> print type(b)\n",
      "    <type 'str'>\n",
      "    >>> print type(c)\n",
      "    <type 'bool'>\n",
      "    >>> print type(d)\n",
      "    <type 'float'>"
     ]
    },
    {
     "cell_type": "heading",
     "level": 2,
     "metadata": {},
     "source": [
      "Working with Variables"
     ]
    },
    {
     "cell_type": "markdown",
     "metadata": {},
     "source": [
      "Just storing data in variables isn't much use to us. Right away, we'd like to start performing\n",
      "operations and manipulations on data and variables.\n",
      "\n",
      "There are three very common means of performing an operation on a thing or variable:\n",
      "1. Operators\n",
      "2. Functions\n",
      "3. Methods"
     ]
    },
    {
     "cell_type": "heading",
     "level": 2,
     "metadata": {},
     "source": [
      "1. Operators"
     ]
    },
    {
     "cell_type": "markdown",
     "metadata": {},
     "source": [
      "All of the basic math operators work like you think they should for numbers. They can also\n",
      "do some useful operations on other things, like strings. There are also boolean operators that\n",
      "compare quantities and give back a `bool` variable as a result."
     ]
    },
    {
     "cell_type": "heading",
     "level": 2,
     "metadata": {},
     "source": [
      "2. Functions"
     ]
    },
    {
     "cell_type": "heading",
     "level": 2,
     "metadata": {},
     "source": [
      "3. Methods"
     ]
    }
   ],
   "metadata": {}
  }
 ]
}