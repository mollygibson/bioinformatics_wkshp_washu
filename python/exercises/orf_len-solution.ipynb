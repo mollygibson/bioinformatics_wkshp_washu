{
 "metadata": {
  "name": "",
  "signature": "sha256:3042a0dbca3703c96209d0eecf1d23774bcd655dbd287747dcbfc4f18d988933"
 },
 "nbformat": 3,
 "nbformat_minor": 0,
 "worksheets": [
  {
   "cells": [
    {
     "cell_type": "heading",
     "level": 1,
     "metadata": {},
     "source": [
      "Calculate ORF Length"
     ]
    },
    {
     "cell_type": "markdown",
     "metadata": {},
     "source": [
      "Assign the following nucleotide sequence to a String variable called 'protein_seq':\n",
      "\n",
      "    'MSIQHFRVALIPFFAAFCLPVFAHPETLVKVKDAEDQLGARVGYIELDLNSGKILESFRPEERFPMMSTFKVLLCGAVLSRVDAGQEQLGRRIHYSQNDLVEYSPVTEKHLTDGMTVRELCSAAIMSDNTAANLLLTTIGGPKELTAFLHNMGDHVTRLDRWEPELNEAIPNDERDTTMPAAMATTLRKLLTGELLTLASRQQLIDWMEADKVAGPLLRSALPAGWFIADKSGAGERGSRGIIAALGPDGKPSRIVVIYTTGSQATMDERNRQIAEIGASLIKHW'\n",
      "    \n",
      "1. Calculate the length of the protein sequence and assign it to an integer variable named 'protein_len'\n",
      "2. Calculate the length of the nucleotide sequence encoding this protein and assign it to an integer variable named 'orf_len'\n",
      "3. Print the variable 'orf_len' to the screen:\n",
      "\n",
      "        >>> orf_len\n",
      "\n",
      "What is the length of the orf that encodes this protein?\n",
      "\n",
      "<img src=\"stopgo.jpeg\" width=\"100\">"
     ]
    },
    {
     "cell_type": "heading",
     "level": 2,
     "metadata": {},
     "source": [
      "Solution"
     ]
    },
    {
     "cell_type": "markdown",
     "metadata": {},
     "source": [
      "    >>> protein_seq = 'MSIQHFRVALIPFFAAFCLPVFAHPETLVKVKDAEDQLGARVGYIELDLNSGKILESFRPEERFPMMSTFKVLLCGAVLSRVDAGQEQLGRRIHYSQNDLVEYSPVTEKHLTDGMTVRELCSAAIMSDNTAANLLLTTIGGPKELTAFLHNMGDHVTRLDRWEPELNEAIPNDERDTTMPAAMATTLRKLLTGELLTLASRQQLIDWMEADKVAGPLLRSALPAGWFIADKSGAGERGSRGIIAALGPDGKPSRIVVIYTTGSQATMDERNRQIAEIGASLIKHW'\n",
      "    >>> protein_len = len(protein_seq)\n",
      "    >>> orf_len = protein_len*3\n",
      "    >>> orf_len\n",
      "    855"
     ]
    }
   ],
   "metadata": {}
  }
 ]
}