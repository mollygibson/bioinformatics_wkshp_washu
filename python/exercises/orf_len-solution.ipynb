{
 "metadata": {
  "name": "",
  "signature": "sha256:85f4a9dc6a76d67b4d0ba8f4b2b9227b5ad52fba77e5a1825d6970ce2a01f8f5"
 },
 "nbformat": 3,
 "nbformat_minor": 0,
 "worksheets": [
  {
   "cells": [
    {
     "cell_type": "heading",
     "level": 1,
     "metadata": {},
     "source": [
      "Calculate ORF Length"
     ]
    },
    {
     "cell_type": "markdown",
     "metadata": {},
     "source": [
      "Assign the following nucleotide sequence to a String variable called 'protein_seq':\n",
      "\n",
      "    'MSIQHFRVALIPFFAAFCLPVFAHPETLVKVKDAEDQLGARVGYIELDLNSGKILESFRPEERFPMMSTFKVLLCGAVLSRVDAGQEQLGRRIHYSQNDLVEYSPVTEKHLTDGMTVRELCSAAIMSDNTAANLLLTTIGGPKELTAFLHNMGDHVTRLDRWEPELNEAIPNDERDTTMPAAMATTLRKLLTGELLTLASRQQLIDWMEADKVAGPLLRSALPAGWFIADKSGAGERGSRGIIAALGPDGKPSRIVVIYTTGSQATMDERNRQIAEIGASLIKHW'\n",
      "\n",
      "(Hint, to copy and paste on Windows, select the text, click on the PuTTY window, and right-click.  Magic, right?  To copy and paste on Mac, select the text, type <kbd style=\"color:#000;background:#eee;border-style:solid;border-color:#ccc #aaa #888 #bbb;padding:.1em .6em;border:1px solid #ccc;font-size:11px;font-family:'Helvetica Neue',Helvetica,Arial,sans-serif;background-color:#f7f7f7;color:#333;-moz-box-shadow:0 1px 0 rgba(0,0,0,0.2),0 0 0 2px #fff inset;-webkit-box-shadow:0 1px 0 rgba(0,0,0,0.2),0 0 0 2px #fff inset;box-shadow:0 1px 0 rgba(0,0,0,0.2),0 0 0 2px #fff inset;border-radius:3px;display:inline-block;margin:0 .1em;text-shadow:0 1px 0 #fff;line-height:1.4;white-space:nowrap\">&#8984;</kbd>+<kbd style=\"color:#000;background:#eee;border-style:solid;border-color:#ccc #aaa #888 #bbb;padding:.1em .6em;border:1px solid #ccc;font-size:11px;font-family:'Helvetica Neue',Helvetica,Arial,sans-serif;background-color:#f7f7f7;color:#333;-moz-box-shadow:0 1px 0 rgba(0,0,0,0.2),0 0 0 2px #fff inset;-webkit-box-shadow:0 1px 0 rgba(0,0,0,0.2),0 0 0 2px #fff inset;box-shadow:0 1px 0 rgba(0,0,0,0.2),0 0 0 2px #fff inset;border-radius:3px;display:inline-block;margin:0 .1em;text-shadow:0 1px 0 #fff;line-height:1.4;white-space:nowrap\">C</kbd>, click on the Terminal window, and type <kbd style=\"color:#000;background:#eee;border-style:solid;border-color:#ccc #aaa #888 #bbb;padding:.1em .6em;border:1px solid #ccc;font-size:11px;font-family:'Helvetica Neue',Helvetica,Arial,sans-serif;background-color:#f7f7f7;color:#333;-moz-box-shadow:0 1px 0 rgba(0,0,0,0.2),0 0 0 2px #fff inset;-webkit-box-shadow:0 1px 0 rgba(0,0,0,0.2),0 0 0 2px #fff inset;box-shadow:0 1px 0 rgba(0,0,0,0.2),0 0 0 2px #fff inset;border-radius:3px;display:inline-block;margin:0 .1em;text-shadow:0 1px 0 #fff;line-height:1.4;white-space:nowrap\">&#8984;</kbd>+<kbd style=\"color:#000;background:#eee;border-style:solid;border-color:#ccc #aaa #888 #bbb;padding:.1em .6em;border:1px solid #ccc;font-size:11px;font-family:'Helvetica Neue',Helvetica,Arial,sans-serif;background-color:#f7f7f7;color:#333;-moz-box-shadow:0 1px 0 rgba(0,0,0,0.2),0 0 0 2px #fff inset;-webkit-box-shadow:0 1px 0 rgba(0,0,0,0.2),0 0 0 2px #fff inset;box-shadow:0 1px 0 rgba(0,0,0,0.2),0 0 0 2px #fff inset;border-radius:3px;display:inline-block;margin:0 .1em;text-shadow:0 1px 0 #fff;line-height:1.4;white-space:nowrap\">V</kbd>.)\n",
      "\n",
      "1. Calculate the length of the protein sequence and assign it to an integer variable named 'protein_len'\n",
      "2. Calculate the length of the nucleotide sequence encoding this protein and assign it to an integer variable named 'orf_len'\n",
      "3. Print the variable 'orf_len' to the screen:\n",
      "\n",
      "        >>> orf_len\n",
      "\n",
      "What is the length of the orf that encodes this protein?\n",
      "\n",
      "<img src=\"stopgo.jpeg\" width=\"100\">"
     ]
    },
    {
     "cell_type": "heading",
     "level": 2,
     "metadata": {},
     "source": [
      "Solution"
     ]
    },
    {
     "cell_type": "markdown",
     "metadata": {},
     "source": [
      "    >>> protein_seq = 'MSIQHFRVALIPFFAAFCLPVFAHPETLVKVKDAEDQLGARVGYIELDLNSGKILESFRPEERFPMMSTFKVLLCGAVLSRVDAGQEQLGRRIHYSQNDLVEYSPVTEKHLTDGMTVRELCSAAIMSDNTAANLLLTTIGGPKELTAFLHNMGDHVTRLDRWEPELNEAIPNDERDTTMPAAMATTLRKLLTGELLTLASRQQLIDWMEADKVAGPLLRSALPAGWFIADKSGAGERGSRGIIAALGPDGKPSRIVVIYTTGSQATMDERNRQIAEIGASLIKHW'\n",
      "    >>> protein_len = len(protein_seq)\n",
      "    >>> orf_len = protein_len*3\n",
      "    >>> orf_len\n",
      "    855"
     ]
    }
   ],
   "metadata": {}
  }
 ]
}