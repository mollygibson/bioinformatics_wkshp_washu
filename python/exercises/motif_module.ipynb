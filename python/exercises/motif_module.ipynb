{
 "metadata": {
  "name": "",
  "signature": "sha256:dd2b10957a148e023a524d1ab7441f1159378ebbf915d4acda02ecf5770169c9"
 },
 "nbformat": 3,
 "nbformat_minor": 0,
 "worksheets": [
  {
   "cells": [
    {
     "cell_type": "markdown",
     "metadata": {},
     "source": [
      "# Writing a Module: Find Motifs in DNA Sequence\n",
      "\n",
      "In the last exercise, you wrote a program that find the locations of a motif in a DNA sequence. Take that code and make it modular and reusable, i.e. *write a function*.\n",
      "\n",
      "Currently, [our program](http://genomic.wustl.edu/bioinformatics/python/exercises/find_motifs-solution.py) takes two values from the command line:\n",
      "\n",
      "    $ python3 find_motifs.py GATATATGCATATACTT ATAT\n",
      "    [2, 4, 10]\n",
      "   \n",
      "1. Take this code, and define a function called `find_motifs(seq, motif)` that takes two parameters: `seq` and `motif` and returns a list of all of the positions in the sequence that the motif is found.\n",
      "2. Put this function in a module named `motifs` (a file named `motifs.py`).\n",
      "3. Import your module (your must start the Python interpreter in the same folder where you saved `motifs.py`):\n",
      "    \n",
      "        >>> import motifs\n",
      "        \n",
      "4. Call your function:\n",
      "\n",
      "        >>> motifs.find_motifs('GATATATGCATATACTT','ATAT')\n",
      "        [2, 4, 10]\n",
      "        \n",
      "*Remember to document your code and include a Docstring!*\n",
      "        \n",
      "Do you get the same output? Try a few other sequence and motif combinations. \n",
      "\n"
     ]
    }
   ],
   "metadata": {}
  }
 ]
}