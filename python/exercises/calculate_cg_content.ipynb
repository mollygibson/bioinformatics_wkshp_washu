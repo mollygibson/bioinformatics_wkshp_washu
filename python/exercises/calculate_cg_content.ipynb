{
 "metadata": {
  "name": "",
  "signature": "sha256:9176a670c7b988e5a7e21654489e23fce731db58f97ef9a2440b5ae2b9fea98d"
 },
 "nbformat": 3,
 "nbformat_minor": 0,
 "worksheets": [
  {
   "cells": [
    {
     "cell_type": "heading",
     "level": 1,
     "metadata": {},
     "source": [
      "Calculate CG Content"
     ]
    },
    {
     "cell_type": "markdown",
     "metadata": {},
     "source": [
      "The GC-content of a DNA string is given by the percentage of nucleotides in the string that are 'C' or 'G'. For example, the GC-content of \"AGCTATAG\" is 37.5%. Note that the reverse complement of any DNA string has the same GC-content.\n",
      "\n",
      "**Exercise:** Write a script that takes as input from STDIN a nucleotide string and prints out the CG-content of that string:\n",
      "\n",
      "    $ echo AGCTATAG | python calculate_cg_content.py \n",
      "    The CG content is 37.5%\n",
      "\n",
      "Start with the provided script by downloading it to your folder on the remote server using the <code>wget</code> command:\n",
      "\n",
      "    $ wget https://cgs.wustl.edu/~mgibson/bioinformatics/python/exercises/calculate_cg_content.py \n",
      "\n",
      "**Hints:**\n",
      "\n",
      "1. The function <code>len()</code> will return an integer length of a string:\n",
      "\n",
      "        dna_len = len(dna_string)\n",
      "\n",
      "1. The String 'object' in Python has a built in method called count. You can use this method to count the number of Cs and Gs in the string:\n",
      "\n",
      "        c_count = dna_string.count('C')\n",
      "        \n",
      "2. Remember that dividing integers by integers will only return the whole portion without the remainder. So, when calculating percentages, you must cast integer values to floats:\n",
      "\n",
      "        float(c_count)\n",
      "        \n",
      "        \n",
      "<img src=\"stopgo.jpeg\" width=\"100\">\n"
     ]
    }
   ],
   "metadata": {}
  }
 ]
}