{
 "metadata": {
  "name": "",
  "signature": "sha256:96351de4247a5629c606b60ea181ae1f0d59ae715a44570fae4b4af94ad867d8"
 },
 "nbformat": 3,
 "nbformat_minor": 0,
 "worksheets": [
  {
   "cells": [
    {
     "cell_type": "heading",
     "level": 1,
     "metadata": {},
     "source": [
      "Calculate CG Content"
     ]
    },
    {
     "cell_type": "markdown",
     "metadata": {},
     "source": [
      "The GC-content of a DNA string is given by the percentage of nucleotides in the string that are 'C' or 'G'. For example, the GC-content of \"AGCTATAG\" is 37.5%. Note that the reverse complement of any DNA string has the same GC-content.\n",
      "\n",
      "**Exercise:** Write a script that takes as input from STDIN a nucleotide string and prints out the CG-content of that string:\n",
      "\n",
      "    $ echo ACTCG | python calculate_cg_content.py \n",
      "    The CG content is 60.0%\n",
      "\n",
      "Start with the provided script by downloading it to your folder using the <code>wget</code> command:\n",
      "\n",
      "     wget https://cgs.wustl.edu/~mgibson/bioinformatics/python/exercises/calculate_cg_content.py \n",
      "\n",
      "Hints:\n",
      "1. The String 'object' in Python has a built in function call"
     ]
    }
   ],
   "metadata": {}
  }
 ]
}