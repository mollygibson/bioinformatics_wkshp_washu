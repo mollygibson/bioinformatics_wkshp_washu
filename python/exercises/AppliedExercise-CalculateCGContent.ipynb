{
 "metadata": {
  "name": "",
  "signature": "sha256:9e2bfaf498adfdb51d668405e7190eacc95dd7d4fc3be3ad1f5ca83b9fb858ba"
 },
 "nbformat": 3,
 "nbformat_minor": 0,
 "worksheets": [
  {
   "cells": [
    {
     "cell_type": "heading",
     "level": 1,
     "metadata": {},
     "source": [
      "Calculate CG Content"
     ]
    },
    {
     "cell_type": "markdown",
     "metadata": {},
     "source": [
      "The GC-content of a DNA string is given by the percentage of nucleotides in the string that are 'C' or 'G'. For example, the GC-content of \"AGCTATAG\" is 37.5%. Note that the reverse complement of any DNA string has the same GC-content.\n",
      "\n",
      "**Exercise:** Write a script that takes as input from STDIN a nucleotide string and prints out the CG-content of that string:\n",
      "\n",
      "\n",
      "\n",
      "Hints:\n",
      "1. The String 'object' in Python has a built in function "
     ]
    }
   ],
   "metadata": {}
  }
 ]
}