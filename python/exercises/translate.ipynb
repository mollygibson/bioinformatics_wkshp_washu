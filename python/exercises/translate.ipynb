{
 "metadata": {
  "name": "",
  "signature": "sha256:42d082a037b7e2037ad05761dfb9021eba3a4c709b86b4f84a563d3ae45157a0"
 },
 "nbformat": 3,
 "nbformat_minor": 0,
 "worksheets": [
  {
   "cells": [
    {
     "cell_type": "heading",
     "level": 1,
     "metadata": {},
     "source": [
      "Translate RNA to Protein"
     ]
    },
    {
     "cell_type": "markdown",
     "metadata": {},
     "source": [
      "The 20 commonly occurring amino acids are abbreviated by using 20 letters from the English alphabet (all letters except for B, J, O, U, X, and Z). Protein strings are constructed from these 20 symbols. \n",
      "\n",
      "The RNA codon table dictates the details regarding the encoding of specific codons into the amino acid alphabet.\n",
      "\n",
      "**Exercise:** Write a program that takes a nucleotide ORF string in as an argument and outputs the translated protein sequence. \n",
      "\n",
      "    $ python translate.py AUGGCCAUGGCGCCCAGAACUGAGAUCAAUAGUACCCGUAUUAACGGGUGA\n",
      "    MAMAPRTEINSTRING* \n",
      "    \n",
      "Start with the provided script by downloading it to your folder on the remote server using the wget command:\n",
      "\n",
      "    $ wget https://cgs.wustl.edu/~mgibson/bioinformatics/python/exercises/translate.py\n",
      "    \n",
      "**Hints:**\n",
      "\n",
      "1. Possible solution: Use a `for loop` to loop through RNA sequence keeping track of position in codon. When reach the third position, translate to amino acid and reset the codon and position tracker.\n",
      "\n",
      "<img src=\"stopgo.jpeg\" width=\"100\">"
     ]
    }
   ],
   "metadata": {}
  }
 ]
}