{
 "metadata": {
  "name": "",
  "signature": "sha256:2474347d7585e60b1e370eba9eead869416a561205aede7653ad1f92a6df8b3c"
 },
 "nbformat": 3,
 "nbformat_minor": 0,
 "worksheets": [
  {
   "cells": [
    {
     "cell_type": "heading",
     "level": 1,
     "metadata": {},
     "source": [
      "Translate RNA to Protein"
     ]
    },
    {
     "cell_type": "markdown",
     "metadata": {},
     "source": [
      "The 20 commonly occurring amino acids are abbreviated by using 20 letters from the English alphabet (all letters except for B, J, O, U, X, and Z). Protein strings are constructed from these 20 symbols. \n",
      "\n",
      "The RNA codon table dictates the details regarding the encoding of specific codons into the amino acid alphabet.\n",
      "\n",
      "**Exercise:** Write a program that takes a nucleotide ORF string in as an argument and outputs the translated protein sequence. \n",
      "\n",
      "    $ python3 translate.py AUGGCCAUGGCGCCCAGAACUGAGAUCAAUAGUACCCGUAUUAACGGGUGA\n",
      "    MAMAPRTEINSTRING* \n",
      "    \n",
      "Start with the provided script by downloading it to your folder on the remote server using the `wget` command:\n",
      "\n",
      "    $ cp /var/www/html/bioinformatics/python/exercises/translate.py .\n",
      "    \n",
      "**Hints:**\n",
      "\n",
      "1. The syntax for looking up a value of a key in a dictionary is:\n",
      "        value = dictionary[key]\n",
      "1. To paste two strings together (programmers call this concatenating strings), use the `+` operator:\n",
      "        combined_string = string1 + string2\n",
      "1. *Possible solution:* Use a `for loop` to loop through RNA sequence keeping track of position in codon. When reach the third position, translate to amino acid and reset the codon and position tracker.\n",
      "\n",
      "<img src=\"stopgo.jpeg\" width=\"100\">"
     ]
    }
   ],
   "metadata": {}
  }
 ]
}