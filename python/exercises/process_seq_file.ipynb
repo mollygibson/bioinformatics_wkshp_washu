{
 "metadata": {
  "name": "",
  "signature": "sha256:23512e17d357404fdc416e2dbe89e7b227f7f0e12e29fada487ec6626e6ebbab"
 },
 "nbformat": 3,
 "nbformat_minor": 0,
 "worksheets": [
  {
   "cells": [
    {
     "cell_type": "heading",
     "level": 1,
     "metadata": {},
     "source": [
      "Finding DNA Motifs in Sequence File"
     ]
    },
    {
     "cell_type": "markdown",
     "metadata": {},
     "source": [
      "In our last two exercises, we wrote a module that wrote a takes in a DNA sequence and a sequence motif returns a list of all of the positions in the DNA sequence that the sequence motif is found. We also put this code into a funtion within a module. \n",
      "\n",
      "This is really convenient, because what we would really like to find where a sequence motif is located in a whole list of sequences!\n",
      "\n",
      "**Exercise:** Write a script that takes in a [fasta file](http://en.wikipedia.org/wiki/FASTA_format) and a sequence motif prints the name of each sequence on a line and a list of all of the positions where the motif is found in that sequence on the next line.\n",
      "\n",
      "**Example Output:** (for [this sequence file](http://genomic.wustl.edu/bioinformatics/python/exercises/input_seqs.fasta))\n",
      "\n",
      "    $ find_motifs_in_file.py input_seqs.fasta 'ATCC'\n",
      "    >sequence_1\n",
      "    []\n",
      "    >sequence_2\n",
      "    []\n",
      "    >sequence_3\n",
      "    [97]\n",
      "    >sequence_4\n",
      "    [205]\n",
      "    >sequence_5\n",
      "    []\n",
      "    >sequence_6\n",
      "    []\n",
      "    >sequence_7\n",
      "    [68, 150]\n",
      "    >sequence_8\n",
      "    []\n",
      "    >sequence_9\n",
      "    []\n",
      "    >sequence_10\n",
      "    []\n",
      "    >sequence_11\n",
      "    [32, 275]\n",
      "    \n",
      "Start with this file\n",
      "\n",
      "    wget http://genomic.wustl.edu/bioinformatics/python/exercises/find_motifs_in_file.py\n",
      "    \n",
      "    \n",
      "**Hints**:\n",
      "\n",
      "* There is a method for strings called [`startwith()`](http://www.tutorialspoint.com/python/string_startswith.htm). You can use this to find if the line is the sequence name or the sequence using `line.startswith('>')`.\n",
      "* Account for the fact that the input sequence and the motif might have different capitalization. One way to account for this is before passing the to your function convert each to uppercase using the method `<string>.upper()` or lowercase using the method `<string>.lower()`.\n",
      "* Run your script in the same folder that your [motifs](http://genomic.wustl.edu/bioinformatics/python/exercises/motifs.py) module is located. \n",
      "\n",
      "<img src=\"stopgo.jpeg\" width=\"100\">\n"
     ]
    }
   ],
   "metadata": {}
  }
 ]
}