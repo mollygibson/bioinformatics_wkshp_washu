{
 "metadata": {
  "name": "",
  "signature": "sha256:c350349aca8b2bd5afc837314c8b58088dcd62ab85ada71df9b198a9f0f627c5"
 },
 "nbformat": 3,
 "nbformat_minor": 0,
 "worksheets": [
  {
   "cells": [
    {
     "cell_type": "heading",
     "level": 1,
     "metadata": {},
     "source": [
      "Processing DNA Sequencing File"
     ]
    },
    {
     "cell_type": "markdown",
     "metadata": {},
     "source": [
      "Often, Next-Generation Sequencing files need to be demultiplexed into individual samples and adapter sequence needs to be removed before processing data analysis.  \n",
      "\n",
      "On this particular run, we only ran one sample, so each sequence starts with the same 14 base pair fragment that should have been removed. \n",
      "\n",
      "**Exercise:** Write a program that will trim this adapter and (a) write the cleaned sequences to a new file and (b)  print the length of each sequence to the screen.\n",
      "\n",
      "    $ python remove_adapter.py input_seqs.fasta output_seqs.fasta\n",
      "    263\n",
      "    182\n",
      "    109\n",
      "    223\n",
      "    118\n",
      "    274\n",
      "    201\n",
      "    100\n",
      "    193\n",
      "    241\n",
      "    271\n",
      "    \n",
      "Start with the provided script by downloading it to your folder on the remote server using the wget command:\n",
      "\n",
      "    $ wget https://cgs.wustl.edu/~mgibson/bioinformatics/python/exercises/remove_adapter.py\n",
      "    \n",
      "Download the input_seqs.fasta file for processing to the same folder:\n",
      "\n",
      "    $ wget https://cgs.wustl.edu/~mgibson/bioinformatics/python/exercises/input_seqs.fasta\n",
      "\n",
      "**Hints:**\n",
      "\n",
      "1. Strings have a build-in method to determine if they start with a particular character called `.startwith('char')` that returns a boolean value:\n",
      "\n",
      "        if line.startwith('>'):\n",
      "        \n",
      "2. Remember Strings, can be sliced, just like Lists!\n",
      "\n",
      "<img src=\"stopgo.jpeg\" width=\"100\">\n"
     ]
    }
   ],
   "metadata": {}
  }
 ]
}