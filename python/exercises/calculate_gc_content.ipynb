{
 "metadata": {
  "name": "",
  "signature": "sha256:3d942bce7021f26e5e5ed8c23df89b4c472e4a3991377c4645418bc6cd95dc7b"
 },
 "nbformat": 3,
 "nbformat_minor": 0,
 "worksheets": [
  {
   "cells": [
    {
     "cell_type": "heading",
     "level": 1,
     "metadata": {},
     "source": [
      "Calculate GC Content"
     ]
    },
    {
     "cell_type": "markdown",
     "metadata": {},
     "source": [
      "The GC-content of a DNA string is given by the percentage of nucleotides in the string that are 'C' or 'G'. For example, the GC-content of \"AGCTATAG\" is 37.5%. Note that the reverse complement of any DNA string has the same GC-content.\n",
      "\n",
      "**Exercise:** Write a script that takes as input a nucleotide string and prints out the GC-content of that string:\n",
      "\n",
      "    $ python3 calculate_GC_content.py AGCTATAG\n",
      "    The GC content is 37.5%\n",
      "\n",
      "Start with the provided script by downloading it to your folder on the remote server using the <code>wget</code> command:\n",
      "\n",
      "    $ wget https://cgs.wustl.edu/~mgibson/bioinformatics/python/exercises/calculate_gc_content.py \n",
      "\n",
      "**Hints:**\n",
      "\n",
      "1. The function <code>len()</code> will return an integer length of a string:\n",
      "\n",
      "        dna_len = len(dna_string)\n",
      "\n",
      "1. The String 'object' in Python has a built in method called **count**. You can use this method to count the number of Cs and Gs in the string:\n",
      "\n",
      "        c_count = dna_string.count('C')\n",
      "        \n",
      "        \n",
      "<img src=\"stopgo.jpeg\" width=\"100\">\n"
     ]
    },
    {
     "cell_type": "code",
     "collapsed": false,
     "input": [],
     "language": "python",
     "metadata": {},
     "outputs": []
    }
   ],
   "metadata": {}
  }
 ]
}