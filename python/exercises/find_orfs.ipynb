{
 "metadata": {
  "name": "",
  "signature": "sha256:cd9ed86918f61ad72e0012bfed37d5a0f1d788f3482dc2e50a3e387de0c9f4cd"
 },
 "nbformat": 3,
 "nbformat_minor": 0,
 "worksheets": [
  {
   "cells": [
    {
     "cell_type": "heading",
     "level": 1,
     "metadata": {},
     "source": [
      "Find Open Reading Frames"
     ]
    },
    {
     "cell_type": "markdown",
     "metadata": {},
     "source": [
      "Either strand of a DNA double helix can serve as the coding strand for RNA transcription. Hence, a given DNA string implies six total reading frames, or ways in which the same region of DNA can be translated into amino acids: three reading frames result from reading the string itself, whereas three more result from reading its reverse complement.\n",
      "\n",
      "An open reading frame (ORF) is one which starts from the start codon and ends by stop codon, without any other stop codons in between. *Thus, a candidate protein string is derived by translating an open reading frame into amino acids until a stop codon is reached.*\n",
      "\n",
      "**Exercise:** Write a user-definied function that takes in a DNA string, translates in all six reading frames and returns a list of all candidate ORFs. \n"
     ]
    }
   ],
   "metadata": {}
  }
 ]
}