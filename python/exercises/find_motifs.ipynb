{
 "metadata": {
  "name": "",
  "signature": "sha256:c6db7faaa398a2777247752a1ba636a7d2150f1dedd8480977cb09bec5605ce2"
 },
 "nbformat": 3,
 "nbformat_minor": 0,
 "worksheets": [
  {
   "cells": [
    {
     "cell_type": "heading",
     "level": 1,
     "metadata": {},
     "source": [
      "Find Motifs in DNA Sequence"
     ]
    },
    {
     "cell_type": "markdown",
     "metadata": {},
     "source": [
      "In genetics, a sequence motif is a nucleotide or amino-acid sequence pattern that is widespread and has, or is conjectured to have, a biological significance.\n",
      "\n",
      "For example, many DNA binding proteins that have affinity for specific DNA binding sites bind DNA in only its double-helical form. They are able to recognize motifs through contact with the double helix's major or minor groove.\n",
      "\n",
      "**Exercise:** Write a program that takes in two strings: a sequence and a motif and returns a list of all of the positions that motif is found.\n",
      "\n",
      "    $ python find_motifs.py GATATATGCATATACTT ATAT\n",
      "    [2, 4, 10]\n",
      "\n",
      "Start with the provided script by downloading it to your folder on the remote server using the wget command:\n",
      "\n",
      "    $ wget https://cgs.wustl.edu/~mgibson/bioinformatics/python/exercises/find_motifs.py\n",
      "    \n",
      "**Hints:**\n",
      "\n",
      "1. You can loop through a string by position using `enumerate`:\n",
      "\n",
      "        for position, nucleotide in enumerate(dna_string):\n",
      "            # Use position as the index in dna_string\n",
      "            \n",
      "2. You can slice String like lists:\n",
      "    \n",
      "        dna_string[position:position+motif_len]\n",
      "        \n",
      "3. Strings, like Lists, are indexed starting at 0, not 1.\n",
      "\n",
      "\n",
      "<img src=\"stopgo.jpeg\" width=\"100\">"
     ]
    }
   ],
   "metadata": {}
  }
 ]
}