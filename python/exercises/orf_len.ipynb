{
 "metadata": {
  "name": "",
  "signature": "sha256:2daf4853916b9b91283125912aa2ae1defa4da532bb47f58b828186941f95903"
 },
 "nbformat": 3,
 "nbformat_minor": 0,
 "worksheets": [
  {
   "cells": [
    {
     "cell_type": "heading",
     "level": 1,
     "metadata": {},
     "source": [
      "Calculate ORF Length"
     ]
    },
    {
     "cell_type": "markdown",
     "metadata": {},
     "source": [
      "Assign the following nucleotide sequence to a String variable called 'protein_seq':\n",
      "\n",
      "    'MSIQHFRVALIPFFAAFCLPVFAHPETLVKVKDAEDQLGARVGYIELDLNSGKILESFRPEERFPMMSTFKVLLCGAVLSRVDAGQEQLGRRIHYSQNDLVEYSPVTEKHLTDGMTVRELCSAAIMSDNTAANLLLTTIGGPKELTAFLHNMGDHVTRLDRWEPELNEAIPNDERDTTMPAAMATTLRKLLTGELLTLASRQQLIDWMEADKVAGPLLRSALPAGWFIADKSGAGERGSRGIIAALGPDGKPSRIVVIYTTGSQATMDERNRQIAEIGASLIKHW'\n",
      "    \n",
      "1. Calculate the length of the protein sequence and assign it to an integer variable named 'protein_len'\n",
      "2. Calculate the length of the nucleotide sequence encoding this protein and assign it to an integer variable named 'orf_len'\n",
      "3. Print the variable 'orf_len' to the screen:\n",
      "\n",
      "        >>> orf_len\n",
      "\n",
      "What is the length of the orf that encodes this protein?\n",
      "\n",
      "<img src=\"stopgo.jpeg\" width=\"100\">"
     ]
    }
   ],
   "metadata": {}
  }
 ]
}