{
 "metadata": {
  "name": "",
  "signature": "sha256:ea51f496b5691ec3a887cf0f924dbd4249440ff67084bfe7bb591ef29d849aa1"
 },
 "nbformat": 3,
 "nbformat_minor": 0,
 "worksheets": [
  {
   "cells": [
    {
     "cell_type": "heading",
     "level": 1,
     "metadata": {},
     "source": [
      "Installing and Running Bioinformatics Software"
     ]
    }
   ],
   "metadata": {}
  }
 ]
}