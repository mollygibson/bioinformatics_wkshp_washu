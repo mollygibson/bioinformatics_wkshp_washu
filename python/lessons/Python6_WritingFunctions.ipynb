{
 "metadata": {
  "name": "",
  "signature": "sha256:eb8401aa61611fef36093816924728b7bbd98ccd43d8ad293db289d508bf8297"
 },
 "nbformat": 3,
 "nbformat_minor": 0,
 "worksheets": [
  {
   "cells": [
    {
     "cell_type": "heading",
     "level": 1,
     "metadata": {},
     "source": [
      "Writing your own functions"
     ]
    },
    {
     "cell_type": "markdown",
     "metadata": {},
     "source": [
      "One way to write a program is to simply string together commands, like the ones described above, in a long\n",
      "file, and then to run that file to generate your results. This may work, but it can be cognitively difficult\n",
      "to follow the logic of programs written in this style. Also, it does not allow you to reuse your code\n",
      "easily - for example, what if we wanted to analyze several different sets of heights for different sets of heights (e.g. men and women)?\n",
      "\n",
      "The most important ways to \"chunk\" code into more manageable pieces is to create **functions** and then\n",
      "to gather these functions into **modules**, and eventually **packages**. Below we will discuss how to create\n",
      "functions and modules. A third common type of \"chunk\" in Python is classes, but we will not be covering\n",
      "object-oriented programming in this workshop.\n",
      "\n",
      "We have used functions before:\n",
      "\n",
      "    >>> x = 3.333333\n",
      "    >>> print(round(x, 2))\n",
      "\n",
      "It is also very easy to write your own function (**Again, indention matters!**):\n",
      "\n",
      "    >>> def multiply(x, y):\n",
      "    ...     return x*y\n",
      "    \n",
      "    >>> print(type(multiply))\n",
      "    >>> print(multiply(4, 3))\n",
      "    \n",
      "Like we talked about earlier with good practices documenting code, it is useful to include a docstring to describe what your function does:\n",
      "\n",
      "    >>> def say_hello(time, people):\n",
      "    ...     '''\n",
      "    ...     Function says a greeting. Useful for engendering goodwill\n",
      "    ...     '''\n",
      "    ...     return 'Good ' + time + ', ' + people\n",
      "    \n",
      "**Docstrings**: A docstring is a special type of comment that tells you what a function does.  You can see them when you ask for help about a function.\n",
      "\n",
      "    >>> say_hello('afternoon', 'friends')\n",
      "    \n",
      "All arguments must be present:\n",
      "\n",
      "    >>> say_hello('afternoon')\n",
      "    \n",
      "Keyword arguments can be used to make some arguments optional by giving them a default value. All mandatory arguments must come first and in order. \n",
      "\n",
      "    >>> def say_hello(time, people='friends'):\n",
      "    ...     return 'Good ' + time + ', ' + people\n",
      "    \n",
      "    >>> say_hello('afternoon')\n",
      "    \n",
      "    >>> say_hello('afternoon', 'students')\n"
     ]
    },
    {
     "cell_type": "heading",
     "level": 1,
     "metadata": {},
     "source": [
      "You Try"
     ]
    },
    {
     "cell_type": "markdown",
     "metadata": {},
     "source": [
      "Let's turn our variance calculation into a function that we can use over and over again. Using the code that [you wrote](https://cgs.wustl.edu/~mgibson/bioinformatics/python/lessons/analyze_heights-solution3.py) in `analyze_heights.py` to calculate mean and variance:\n",
      "\n",
      "1. Turn your code to calculate variance into a function called `calculate_variance` that takes a list of values and returns their variance.\n",
      "1. Write a nice docstring describing what your function does.\n",
      "1. Call your function with different sets of numbers to make sure it works.\n",
      "\n",
      "<img src=\"stopgo.jpeg\" width=\"100\">\n",
      "\n",
      "__Bonus__\n",
      "\n",
      "1. [Refactor](http://en.wikipedia.org/wiki/Code_refactoring) your function by pulling out the section that calculates the mean into another function, and calling that inside your `calculate_variance` function.\n",
      "2. Make sure it can works properly when all the data are integers as well.\n",
      "\n",
      "\n",
      "__Bonus++__\n",
      "\n",
      "We can make our functions more easily reusable by placing them into **modules** that we can import, just\n",
      "like we have been doing with `numpy`. It's pretty simple to do this:\n",
      "\n",
      "1. Copy your function(s) into a new text file, in the same directory as this notebook,\n",
      "called `stats.py`.\n",
      "1. In a new script, type `import stats` to import the module. You can now calculate the variance of a number of samples of heights (or other random numbers) using your imported module: \n",
      "\n",
      "        result = stats.calculate_variance([1.8,1.9,2.0,1.7,1.6,2.2])"
     ]
    }
   ],
   "metadata": {}
  }
 ]
}