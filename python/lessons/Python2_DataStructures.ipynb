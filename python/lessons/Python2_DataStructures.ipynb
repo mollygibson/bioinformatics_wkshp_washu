{
 "metadata": {
  "name": "",
  "signature": "sha256:e4adfc71b6ded926ddb071c6e2c7ccab37920732ad8529b293a94a462dc5e307"
 },
 "nbformat": 3,
 "nbformat_minor": 0,
 "worksheets": [
  {
   "cells": [
    {
     "cell_type": "heading",
     "level": 1,
     "metadata": {},
     "source": [
      "Collections of things"
     ]
    },
    {
     "cell_type": "markdown",
     "metadata": {},
     "source": [
      "While it is interesting to explore the coding sequencing length of one protein, in science we work with larger slightly more complex datasets, for example collections of proteins or coding sequences. Python provides us with a number of objects to handle collections of things.\n",
      "\n",
      "Probably 99% of your work in scientific Python will use one of four types of collections:\n",
      "(1) `lists`, (2) `tuples`, (3) `dictionaries`, and (4) `numpy arrays`. We'll look quickly at each of these and what\n",
      "they can do for you."
     ]
    },
    {
     "cell_type": "heading",
     "level": 2,
     "metadata": {},
     "source": [
      "Lists"
     ]
    },
    {
     "cell_type": "markdown",
     "metadata": {},
     "source": [
      "* The syntax for creating a list is:\n",
      "\n",
      "        list_name = [item1, item2, ...]\n",
      "    \n",
      "  Lists are enclosed with square brackets [] and the list elements are separated by commas. (You can add spaces as well to make the code more readable.)\n",
      "\n",
      "        >>> orf_lens = [855, 900, 420]\n",
      "        >>> type(orf_lens)\n",
      "        <type 'list'>\n",
      "        \n",
      "* Lists (and all collections) are also indexed with square brackets [].\n",
      "\n",
      "    NOTE: The first index is zero, not one!\n",
      "        >>> orf_lens[0]\n",
      "        855\n",
      "        >>> orf_lens[2]\n",
      "        420\n",
      "      \n",
      "* You can also count from the end of the list:\n",
      "\n",
      "        >>> print('last item is: ' + str(orf_lens[-1]))\n",
      "        last item is: 420\n",
      "        >>> print('second to last item is: ' + str(orf_lens[-2]))\n",
      "        second to last item is: 900\n",
      "        \n",
      "* You can access multiple items from a list by slicing, using a colon between indexes\n",
      "\n",
      "    NOTE: The end value is not inclusive\n",
      "        >>> orf_lens\n",
      "        [855, 900, 420]\n",
      "        >>> orf_lens[1:2]\n",
      "        [900]\n",
      "        >>> orf_lens[0:2]\n",
      "        [855, 900]\n",
      "        \n",
      "* Lists are objects and have methods, such as append\n",
      "\n",
      "        >>> orf_lens.append(669)\n",
      "        >>> orf_lens\n",
      "        [855, 900, 420, 669]\n",
      "\n",
      "* A 'gotcha' for some new Python users is that many collections, including lists, actually store **pointers to data, not the data itself**. \n",
      "\n",
      "    Remember when we set `b=a` and then changed `a`?\n",
      "\n",
      "    What happens when we do this in a list?\n",
      "\n",
      "        >>> a = [1, 2, 3]\n",
      "        >>> b = a\n",
      "        >>> print('original b: + str(b))\n",
      "        original b: [1, 2, 3]\n",
      "        >>> a[0] = 42\n",
      "        >>> print('What is b after we change a?: ' + str(b))\n",
      "        What is b after we change a?: [42, 2, 3]\n"
     ]
    },
    {
     "cell_type": "heading",
     "level": 2,
     "metadata": {},
     "source": [
      "Tuples"
     ]
    },
    {
     "cell_type": "markdown",
     "metadata": {},
     "source": [
      "We won't say a whole lot about tuples except to mention that they basically work just like lists, with\n",
      "two major exceptions:\n",
      "\n",
      "1. You declare tuples using () instead of []\n",
      "1. Once you make a tuple, you can't change what's in it (referred to as **immutable**)\n",
      "\n",
      "They syntax for creating a tuple is:\n",
      "\n",
      "        tuple_name = (item1, item2, ...)\n",
      "\n",
      "Tuples are enclosed with parenthesis () and the tuple elements are separated by commas. (You can add spaces as well to make the code more readable.)\n",
      "\n",
      "        >>> coordinates = (1, 2, 3)\n",
      "        >>> type(coordinates)\n",
      "        <class 'tuple'>\n",
      "      \n",
      "You'll see tuples come up throughout the Python language, and over time you'll develop a feel for when\n",
      "to use them. \n",
      "\n",
      "In general, they're often used instead of lists:\n",
      "\n",
      "1. To group items when the position in the collection is critical, such as coord = (x,y)\n",
      "1. When you want to make prevent accidental modification of the items,  eg shape = (12,23)"
     ]
    },
    {
     "cell_type": "heading",
     "level": 2,
     "metadata": {},
     "source": [
      "Dictionaries"
     ]
    },
    {
     "cell_type": "markdown",
     "metadata": {},
     "source": [
      "Dictionaries are the collection to use when you want to store and retrieve things by their names\n",
      "(or some other kind of key) instead of by their position in the collection. A good example is a set\n",
      "of model parameters, each of which has a name and a value. \n",
      "\n",
      "* The syntax for creating a dictionary is:\n",
      "\n",
      "        dictionary_name = {key1:value1, key2:value2, ...}\n",
      "    \n",
      "  Dictionaries are enclosed with braces {}. A colon is placed between each *key* and it's *value* and the *key:value* pairs are separated by commas. (You can add spaces as well to make the code more readable.)\n",
      "\n",
      "        >>> codon_table = {\"UUU\":\"F\", \"UUC\":\"F\", \"UUA\":\"L\", \"UUG\":\"L\",\"UCU\":\"S\", \"UCC\":\"s\", \"UCA\":\"S\", \"UCG\":\"S\", \"UAU\":\"Y\", \"UAC\":\"Y\", \"UAA\":\"STOP\", \"UAG\":\"STOP\",\"UGU\":\"C\", \"UGC\":\"C\", \"UGA\":\"STOP\", \"UGG\":\"W\",\"CUU\":\"L\", \"CUC\":\"L\", \"CUA\":\"L\", \"CUG\":\"L\",\"CCU\":\"P\", \"CCC\":\"P\", \"CCA\":\"P\", \"CCG\":\"P\",\"CAU\":\"H\", \"CAC\":\"H\", \"CAA\":\"Q\", \"CAG\":\"Q\",\"CGU\":\"R\", \"CGC\":\"R\", \"CGA\":\"R\", \"CGG\":\"R\",\"AUU\":\"I\", \"AUC\":\"I\", \"AUA\":\"I\", \"AUG\":\"M\",\"ACU\":\"T\", \"ACC\":\"T\", \"ACA\":\"T\", \"ACG\":\"T\",\"AAU\":\"N\", \"AAC\":\"N\", \"AAA\":\"K\", \"AAG\":\"K\",\"AGU\":\"S\", \"AGC\":\"S\", \"AGA\":\"R\", \"AGG\":\"R\",\"GUU\":\"V\", \"GUC\":\"V\", \"GUA\":\"V\", \"GUG\":\"V\",\"GCU\":\"A\", \"GCC\":\"A\", \"GCA\":\"A\", \"GCG\":\"A\",\"GAU\":\"D\", \"GAC\":\"D\", \"GAA\":\"E\", \"GAG\":\"E\",\"GGU\":\"G\", \"GGC\":\"G\", \"GGA\":\"G\", \"GGG\":\"G\"}\n",
      "        >>> type(codon_table)\n",
      "        <class 'dict'>\n",
      "\n",
      "    \n",
      "* Dictionaries have no order:    \n",
      "\n",
      "        >>> codon_table\n",
      "        {'ACC': 'T', 'GUC': 'V', 'ACA': 'T', 'ACG': 'T', 'GUU': 'V', 'AAC': 'N', 'CCU': 'P', 'UGG': 'W', 'AGC': 'S', 'AUC': 'I', 'CAU': 'H', 'AAU': 'N', 'AGU': 'S', 'ACU': 'T', 'GUG': 'V', 'CAC': 'H', 'AAA': 'K', 'CCG': 'P', 'CCA': 'P', 'CAA': 'Q', 'CCC': 'P', 'GGU': 'G', 'UCU': 'S', 'GCG': 'A', 'UGC': 'C', 'CAG': 'Q', 'UGA': 'STOP', 'UAU': 'Y', 'CGG': 'R', 'UCG': 'S', 'AGG': 'R', 'GGG': 'G', 'UCC': 's', 'UCA': 'S', 'GAA': 'E', 'UAA': 'STOP', 'GGA': 'G', 'UAC': 'Y', 'CGU': 'R', 'UAG': 'STOP', 'AUA': 'I', 'GCA': 'A', 'CUU': 'L', 'GGC': 'G', 'AUG': 'M', 'CUG': 'L', 'GAG': 'E', 'CUC': 'L', 'AGA': 'R', 'CUA': 'L', 'GCC': 'A', 'AAG': 'K', 'GAU': 'D', 'UUU': 'F', 'GAC': 'D', 'GUA': 'V', 'CGA': 'R', 'GCU': 'A', 'UGU': 'C', 'AUU': 'I', 'UUG': 'L', 'UUA': 'L', 'CGC': 'R', 'UUC': 'F'}\n",
      "\n",
      "* Dictionary *values* are referenced by the *key*\n",
      "        >>> codon_table['ACC']\n",
      "        'T'"
     ]
    },
    {
     "cell_type": "heading",
     "level": 1,
     "metadata": {},
     "source": [
      "You Try"
     ]
    },
    {
     "cell_type": "markdown",
     "metadata": {},
     "source": [
      "Let's store a number of heights (in meters) in a list.\n",
      "\n",
      "1. Ask five people around you for their heights (in meters).\n",
      "2. Store these in a list called `heights`.\n",
      "3. Append your own height, calculated above in the variable `meters`, to the list.\n",
      "4. Get the first height from the list and print it.\n",
      "\n",
      "__Bonus__\n",
      "\n",
      "1. Extract the last value in two different ways: first, by using the index for\n",
      "the last item in the list, and second, presuming that you do not know how long the list is.\n",
      "\n",
      "__HINT:__ **len()** can be used to find the length of a list.\n",
      "\n",
      "<img src=\"stopgo.jpeg\" width=\"100\">\n"
     ]
    },
    {
     "cell_type": "code",
     "collapsed": false,
     "input": [],
     "language": "python",
     "metadata": {},
     "outputs": []
    }
   ],
   "metadata": {}
  }
 ]
}