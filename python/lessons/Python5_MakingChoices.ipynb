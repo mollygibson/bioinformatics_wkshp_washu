{
 "metadata": {
  "name": "",
  "signature": "sha256:be92479689445028b9a84bd9fb7609842addd3f4ec023ae227f65c12952b2279"
 },
 "nbformat": 3,
 "nbformat_minor": 0,
 "worksheets": [
  {
   "cells": [
    {
     "cell_type": "heading",
     "level": 1,
     "metadata": {},
     "source": [
      "Making Choices"
     ]
    }
   ],
   "metadata": {}
  }
 ]
}