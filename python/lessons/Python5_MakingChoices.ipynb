{
 "metadata": {
  "name": "",
  "signature": "sha256:404f0c835badf035546d4c21418eb5c94e94b05da3cfe000b7eb8fc5721461fe"
 },
 "nbformat": 3,
 "nbformat_minor": 0,
 "worksheets": [
  {
   "cells": [
    {
     "cell_type": "markdown",
     "metadata": {},
     "source": [
      "#Making choices\n",
      "\n",
      "Often we want to check if a condition is True and take one action if it is, and another action if the\n",
      "condition is False. We can achieve this in Python with an **if statement**.\n",
      "\n",
      "__TIP:__ You can use any expression that returns a boolean value (True or False) in an if statement.\n",
      "Common boolean operators are ==, !=, <, <=, >, >=. You can also use `is` and `is not` if you want to\n",
      "check if two variables are identical in the sense that they are stored in the same location in memory.\n",
      "\n",
      "* Example of a simple if statement:\n",
      "\n",
      "        >>> if x > 0:\n",
      "        ...     print 'x is positive'\n",
      "        ... elif x < 0:\n",
      "        ...     print 'x is negative'\n",
      "        ... else:\n",
      "        ...     print 'x is zero'\n",
      "    \n",
      "* If statements can rely on boolean variables\n",
      "        >>> x = -1\n",
      "        >>> test = (x > 0)\n",
      "        >>> print type(test); print test\n",
      "\n",
      "        >>> if test:\n",
      "        ...     print 'Test was true'\n",
      "        \n",
      "#You Try\n",
      "\n",
      "Often once we ask questions about our analysis or results. We can do this with conditionals. Perform these calculations in the script that you created (`analyze_heights.py`). Before continuing, remove all previous print statements from your script while leaving all other variables and lists.\n",
      "\n",
      "1. Test whether `variance` is larger than 0.01, and print out a line that says \"variance more than 0.01: \" \n",
      "followed by the answer (either True or False).\n",
      "2. Test whether the `mean` and the `variance` are approximately equal, or follow a Poisson distribution, within some threshold (0.01). To do this, test if the absolute value of the difference between the mean and variance is less than 0.01 and print out a line that says \"The mean and the variance are approximately equal: \" followed by the answer (either True or False).\n",
      "\n",
      "**Note:** The built-in function for absolute value in python is `abs()`\n",
      "\n",
      "<img src=\"stopgo.jpeg\" width=\"100\" >"
     ]
    }
   ],
   "metadata": {}
  }
 ]
}