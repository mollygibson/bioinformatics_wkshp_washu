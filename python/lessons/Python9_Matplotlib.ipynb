{
 "metadata": {
  "name": "",
  "signature": "sha256:3dc035972f4c8a6143a9095fee4ae4755197e73b412b242eb07ef02130620602"
 },
 "nbformat": 3,
 "nbformat_minor": 0,
 "worksheets": [
  {
   "cells": [
    {
     "cell_type": "markdown",
     "metadata": {},
     "source": [
      "# Plotting your data\n"
     ]
    },
    {
     "cell_type": "markdown",
     "metadata": {},
     "source": [
      "Yesterday, we learned how to analyze data using python, but eventually, we want to be able to visualize the data as well."
     ]
    },
    {
     "cell_type": "markdown",
     "metadata": {},
     "source": [
      "##What's the goal of this lecture?\n",
      "\n",
      "Before we dive in to plotting with python, we should note that the matplotlib library is very complex, and will take you a long time to learn in its entirety (we're still doing this ourselves). \n",
      "\n",
      "This lecture is meant to be a taste of the syntax that we generally use when plotting in python (and which we use in python in general). It is also meant to be a brief showing of what matplotlib can do. At the end, we also have some useful links to other plotting libraries that are fancier, but usually more high-level, than matplotlib."
     ]
    },
    {
     "cell_type": "markdown",
     "metadata": {},
     "source": [
      "### What is matplotlib?\n",
      "\n",
      "Matplotlib is the most popular and mature library for plotting data using\n",
      "Python. It has all of the functionality you would expect, including the ability to control\n",
      "the formatting of plots and figures at a very fine level.\n",
      "\n",
      "The official matplotlib documentation is at http://matplotlib.org/  \n",
      "The matplotlib gallery is at http://matplotlib.org/gallery.html"
     ]
    },
    {
     "cell_type": "markdown",
     "metadata": {},
     "source": [
      "### Importing matplotlib\n",
      "\n",
      "**Matplotlib is often used through 'pyplot'**, which provides a high-level interface for\n",
      "plotting.  In IPython or the IPython notebook, it's easiest to use the `pylab` magic, which imports matplotlib, numpy, and scipy."
     ]
    },
    {
     "cell_type": "markdown",
     "metadata": {},
     "source": [
      "If you are using 'regular' Python, however, you'll want the following. You'll also need to separately import numpy and any other packages you need.\n",
      "\n",
      "    >>> import matplotlib\n",
      "    >>> matplotlib.use('pdf') \n",
      "\n",
      "Need to do this before importing pyplot to set the [backend](http://matplotlib.org/faq/usage_faq.html#what-is-a-backend) to pyplot\n",
      "\n",
      "    >>> import matplotlib.pyplot as plt\n",
      "    >>> import numpy as np\n",
      "    >>> import scipy as sp"
     ]
    },
    {
     "cell_type": "markdown",
     "metadata": {},
     "source": [
      "## The Basics: Creating Figures\n",
      "\n",
      "There are two major challenges with creating figures. \n",
      "\n",
      "1. Understanding the syntax to actually make the basic plot appear. \n",
      "2. Second is formatting the basic plot to look exactly how you would like it to look. In general, the formatting will probably take you longer..."
     ]
    },
    {
     "cell_type": "markdown",
     "metadata": {},
     "source": [
      "First, let's create some data that we can use for the plotting sin and cosine waves:\n",
      "        >>> x = np.linspace(0, 2*np.pi)\n",
      "        >>> y1 = np.sin(x)\n",
      "        >>> y2 = np.cos(x)"
     ]
    },
    {
     "cell_type": "markdown",
     "metadata": {},
     "source": [
      "1. We first create a figure object:\n",
      "        \n",
      "        >>> plt.figure()\n",
      "        \n",
      "2. On the axis that we made, we can plot our sin wave and do a lot of things to format the plot:\n",
      "        >>> plt.plot(x, y1)\n",
      "        >>> plt.title(\"This is an amazing sin plot\")\n",
      "        >>> plt.xlabel(\"Number of hats owned\")\n",
      "        >>> plt.ylabel(\"Coolness factor\")\n",
      "        \n",
      "3. Now that we have the figure the way we want it, we can save it to a file to look at:\n",
      "        >>> plt.savefig(\"myfirstplot\")"
     ]
    },
    {
     "cell_type": "markdown",
     "metadata": {},
     "source": [
      "In simple matplotlib plotting, there are two concepts to distinguish:\n",
      "\n",
      "- __Figure__ - the entire figure, like what you might see in a journal.  This includes all\n",
      "subplots, axes, lines, labels, etc. The whole encilada. Another way to think about this is like a _canvas_, upon which you will draw all kinds of different things \n",
      "  \n",
      "- __Subplot/Axes__ - one of the sub-sections of the figure, labeled (a), (b), etc. in\n",
      "articles. Each subplot will contain one Axes object, which is the container where all of the\n",
      "useful stuff, such as actual lines, legends, labels, etc., are actually housed.\n",
      "\n",
      "For example, here's how to make one figure with two subplots, the second of which contains\n",
      "two lines.  There are many ways to do this, but perhaps the quickest/easiest is to use plt.subplots"
     ]
    },
    {
     "cell_type": "markdown",
     "metadata": {},
     "source": [
      "1. First, create an empty figure with 2 subplots. The parameters (1, 2) indicate 1 row and 2 cols.\n",
      "        >>> plt.subplots(1, 2)\n",
      "\n",
      "2. Next, we need to tell it which plot we want to work with. The parameters (1, 2, 1) indicate for the subplot with 1 row, and 2 columns, we want to select the first subplot)\n",
      "        >>> plt.subplot(1,2,1)\n",
      "        >>> plt.plot(x, y1)\n",
      "        \n",
      "        >>> plt.subplot(1,2,2)\n",
      "        >>> plt.plot(x, y2)\n",
      "\n",
      "4. Finally, save the figure as a png file\n",
      "        >>> plt.savefig('fig_with_two_plots')"
     ]
    },
    {
     "cell_type": "markdown",
     "metadata": {},
     "source": [
      "# You Try \n",
      "\n",
      "There are lots of formatting options to play with. Modify the code above to make some changes to the\n",
      "formatting of these plots.\n",
      "\n",
      "First, make some changes to the axes:\n",
      "\n",
      "1. Change the x axis on ax1 to run from 0 to 4. (**Hint**: set_xlim)\n",
      "2. Add labels to the x axis on both subplots (**Hint**: set_xlabel, set_ylabel)\n",
      "\n",
      "Second, make some changes to the lines that you plotted:\n",
      "\n",
      "1. Make the sine line on ax1 red and dashed. (**Hint**: You will need to replot the entire plot from plt.subplots(1,2) and add [line style parameters](http://matplotlib.org/api/lines_api.html#matplotlib.lines.Line2D) to the plt.plot() command)\n",
      "\n",
      "<img src=\"stopgo.jpeg\" width=\"100\">"
     ]
    },
    {
     "cell_type": "markdown",
     "metadata": {},
     "source": [
      "### Other types of plots\n",
      "\n",
      "In the example above, we used the plot method to make line plots. There are also methods to\n",
      "make scatter plots, barplots, histograms, loglog plots, semilog plots, etc. Let's see how this works."
     ]
    },
    {
     "cell_type": "markdown",
     "metadata": {},
     "source": [
      "1. Make some data to plot\n",
      "        >>> x = np.arange(0, 100)\n",
      "        >>> y = np.random.rand(100)  # 100 random numbers\n",
      "\n",
      "2. Make a figure with 6 subplots and axes\n",
      "        >>> plt.subplots(3, 2)\n",
      "\n",
      "3. Add data to each axis. Optional arguments to each method will customize each plot.\n",
      "        >>> plt.subplot(3, 2, 1)\n",
      "        >>> plt.plot(x, y)\n",
      "        \n",
      "        >>> plt.subplot(3, 2, 2)\n",
      "        >>> plt.hist(y)\n",
      "        \n",
      "        >>> plt.subplot(3, 2, 3)\n",
      "        >>> plt.scatter(x, y)\n",
      "        \n",
      "        >>> plt.subplot(3, 2, 4)\n",
      "        >>> plt.boxplot(y)\n",
      "        \n",
      "        >>> plt.subplot(3, 2, 5)\n",
      "        >>> plt.loglog(x, y)\n",
      "        \n",
      "        >>> plt.subplot(3, 2, 6)\n",
      "        >>> plt.semilogx(x, y)\n",
      "        >>> plt.tight_layout()\n",
      " \n",
      "4. Save plot\n",
      "        >>> plt.savefig(\"different_types_of_plots\")"
     ]
    },
    {
     "cell_type": "markdown",
     "metadata": {},
     "source": [
      "## Formatting figures\n",
      "\n",
      "Formatting figures often takes longer than actually setting them up and adding data.\n",
      "There are many different approaches to formatting figures in matplotlib (most goals can be\n",
      "accomplished in different ways, using different commands), and you will come across many\n",
      "of these as you learn more. The tips below give a few simple ways to get started."
     ]
    },
    {
     "cell_type": "markdown",
     "metadata": {},
     "source": [
      "### Common formatting tricks\n",
      "\n",
      "There are hundreds of formatting options available in matplotlib, many of which you will end\n",
      "up using occasionally. There are a few options, however, that you will use very frequently.\n",
      "A short list of these might include:\n",
      "\n",
      "- Changing axis limits\n",
      "- Changing line colors\n",
      "- Changing lines to dashed (for black and white figures)\n",
      "- Adding markers to lines\n",
      "- Make tick labels point outward instead of inward\n",
      "- Get rid of the box surrounding the plot\n",
      "- Adding subplot letters, like (a) and (b)\n",
      "\n",
      "Here's how to accomplish all of these things."
     ]
    },
    {
     "cell_type": "markdown",
     "metadata": {},
     "source": [
      "1. Make some data to plot\n",
      "        >>> x = np.linspace(0, 2*np.pi)\n",
      "        >>> y1 = np.sin(x)\n",
      "        >>> y2 = np.cos(x)\n",
      "\n",
      "2. First, create an empty figure with 1 subplot\n",
      "        >>> plt.figure()\n",
      "\n",
      "3. Add title and labels\n",
      "        >>> plt.title('My Plot')\n",
      "        >>> plt.xlabel('x')\n",
      "        >>> plt.ylabel('y')\n",
      "\n",
      "4. Change axis limits\n",
      "        >>> plt.xlim([0,2])\n",
      "        >>> plt.ylim([-1, 2])\n",
      "\n",
      "5. Add the lines, changing their color, style, and marker\n",
      "        >>> plt.plot(x, y1, 'k--o', label='sin') # Black line, dashed, with 'o' markers\n",
      "        >>> plt.plot(x, y2, 'r-^', label='cos') # Red line, solid, with triangle-up markers\n",
      "\n",
      "6. Adjust tick marks \n",
      "        >>> plt.tick_params(direction='out', top=False, right=False) # Turn ticks out\n",
      "\n",
      "7. Add subplot letter\n",
      "        >>> plt.annotate('(a)', (0.01, 0.96), size=12, xycoords='figure fraction')\n",
      "\n",
      "8. Add legend\n",
      "        >>> plt.legend()\n",
      "\n",
      "9. Finally, save the figure as a png file\n",
      "        >>> plt.savefig('myfig-formatted')\n",
      "        \n",
      "You'll want to check that your formatting looks good by looking at the file that's being saved\n",
      "to your hard disk, since that's exactly how it will look to the publisher or when inserted\n",
      "into your manuscript."
     ]
    },
    {
     "cell_type": "markdown",
     "metadata": {},
     "source": [
      "## The matplotlib gallery\n",
      "\n",
      "It can be very intimidating to try to craft exactly the figure that you want, especially if\n",
      "you are used to being able to adjust things visually using a program like Excel.\n",
      "\n",
      "If you get stuck and don't know where to start, or just want to learn more about what\n",
      "matplotlib can do, a great option is to have a look at the matplotlib gallery, which can be\n",
      "found at http://matplotlib.org/gallery.html. A good way to get started is to find a figure\n",
      "here that sort of looks like what you want, copy the code, and modify it for your own needs.\n",
      "\n",
      "# You Try: Bonus\n",
      "\n",
      "\n",
      "Have a look at the matplotlib gallery, find a cool looking figure, copy the code\n",
      "into a script in your home directory, and modify it. Note that some of the examples might require packages that\n",
      "are not installed on the cluster (in particular those that make maps) -\n",
      "if this is the case, pick another example for the purposes of this exercise.\n",
      "\n",
      "***IMPORTANT:***\n",
      "All of the examples on the matplotlib gallery assume that you are on a local machine and can have your plot open up on a window. This is not the case when you are logged into a remote machine. That's okay though, there is a simple way to divert all of the output to a file rather than having a window open. The most important is that for each file, you will need to modify the script to add a **backend** before you import pyplot like we did earlier:\n",
      "\n",
      "For example, if you want to save your figures to a .pdf file, you need to add the line `matplotlib.use('pdf')` **BEFORE** you import pyplot:\n",
      "\n",
      "    import matplotlib\n",
      "    \n",
      "    matplotlib.use('pdf') # Add this line right before importing pyplot\n",
      "    import matplotlib.pyplot as plt\n",
      "    \n",
      "Then, everytime you want to save what you have so far to a file, add the line `plt.savefig(\"myfig\")`, where `myfig` is the name of the file you want to save the figure to:\n",
      "    \n",
      "    plt.plot([1,2,3])\n",
      "    plt.savefig('myfig') # Add this when you want to save your plot to a file\n",
      "\n",
      "<img src=\"stopgo.jpeg\" width=\"100\" >\n"
     ]
    },
    {
     "cell_type": "markdown",
     "metadata": {},
     "source": [
      "\n",
      "\n",
      "# This is only the beginning....\n",
      "\n",
      "Note that this is only the tip of the iceberg for plotting in python.  We've focused on matplotlib, which is the most common/well-developed plotting platform.  However, many others exist that you might be interested in.  Pandas has a lot of useful plotting features, and separate plotting packages are available for more specific data visualization problems (e.g., plotting on a map).\n",
      "\n",
      "#### Other packages worth looking into:\n",
      "\n",
      "#####Pretty wrappers around matplotlib\n",
      "- [Seaborn](http://www.stanford.edu/~mwaskom/software/seaborn/)\n",
      "- [prettyplotlib](http://olgabot.github.io/prettyplotlib/)\n",
      "- pandas ([plotting libraries within](http://pandas.pydata.org/pandas-docs/version/0.15.0/visualization.html))\n",
      "\n",
      "#####Alternative (and one day more powerful?) plotting packages\n",
      "- [ggplot (yes, ggplot)](http://blog.yhathq.com/posts/ggplot-for-python.html)\n",
      "\n",
      "- [Bokeh](http://bokeh.pydata.org/)\n",
      "- [Vincent](http://vincent.readthedocs.org/en/latest/)"
     ]
    }
   ],
   "metadata": {}
  }
 ]
}