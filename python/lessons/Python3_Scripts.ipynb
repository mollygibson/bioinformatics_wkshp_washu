{
 "metadata": {
  "name": "",
  "signature": "sha256:dd45b905d84b88b0e06c8c27a9ca4d2998ac45db34ca6d8584a84416f8d3dd87"
 },
 "nbformat": 3,
 "nbformat_minor": 0,
 "worksheets": [
  {
   "cells": [
    {
     "cell_type": "heading",
     "level": 1,
     "metadata": {},
     "source": [
      "Your first script"
     ]
    },
    {
     "cell_type": "markdown",
     "metadata": {},
     "source": [
      "In our first two Python lessons, we interacted with Python directly from the prompt (or the interpreter). Now, we will learn how to interact with Python in the way that you will most commonly interact: writing and executing scripts.\n",
      "\n",
      "Your first script, [as with many first time programmers](http://en.wikipedia.org/wiki/%22Hello,_world!%22_program), will be a simple script that prints \"Hello, world!\". \n",
      "\n",
      "First, create a file named `hello_world.py` with the following contents:\n",
      "\n",
      "    #!/usr/bin/env python3\n",
      "    \n",
      "    # Print out hello world\n",
      "    print(\"Hello, world!\")\n",
      "    \n",
      "Then, ecxecute the script from the unix command line:\n",
      "\n",
      "    $ python3 hello_world.py\n",
      "    Hello, world!\n",
      "    \n",
      "**A few things to notice:**\n",
      "\n",
      "1. The first line of every python script is always <code>#!/usr/bin/python3</code>. This allows the python inerpreter to be invoked. Thefore, if `hello_world.py` was marked as executable, we could omit invoking the python interpreter manually:\n",
      "\n",
      "        $ hello_world.py\n",
      "        Hello, world!\n",
      "        \n",
      "2. Python code is commented using the '#' character. Lines that start with '#' are ignored by the Python interpreter. We will talk more about this later.\n",
      "\n",
      "3. In Python 3, print is a function. In Python 2, print is a statement that prints everything on the same line to STDOUT. So, in Python 3, we would need to write <code>print(\"Hello, world!\")</code> instead. To check the version of Python that you are currently running:\n",
      "\n",
      "        $ python --version\n",
      "        Python 3.4.0\n",
      "    \n",
      "<img src=\"stopgo.jpeg\" width=\"100\">\n",
      "    \n"
     ]
    },
    {
     "cell_type": "heading",
     "level": 2,
     "metadata": {},
     "source": [
      "Command Line Arguments"
     ]
    },
    {
     "cell_type": "markdown",
     "metadata": {},
     "source": [
      "The Python `sys` module provides access to any command-line arguments via the `sys.argv` list object. This serves two purposes:\n",
      "\n",
      "1. `sys.argv` is the list of command-line arguments.\n",
      "\n",
      "1. `len(sys.argv)` is the number of command-line arguments.\n",
      "\n",
      "\n",
      "Consider the following script called `get_cmd_line_args.py`:\n",
      "    #!/usr/bin/python3\n",
      "    \n",
      "    import sys\n",
      "    \n",
      "    print('Number of arguments:', len(sys.argv), 'arguments.')\n",
      "    print('Argument List:', str(sys.argv))\n",
      "    \n",
      "Running this program results in the following:\n",
      "\n",
      "    $ python3 get_cmd_line_args.py arg1 arg2 arg3\n",
      "    Number of arguments: 4 arguments.\n",
      "    Argument List: ['get_cmd_line_args.py', 'arg1', 'arg2', 'arg3']"
     ]
    },
    {
     "cell_type": "heading",
     "level": 2,
     "metadata": {},
     "source": [
      "Commenting your code"
     ]
    },
    {
     "cell_type": "markdown",
     "metadata": {},
     "source": [
      "[Comments](http://en.wikipedia.org/wiki/Comment_%28computer_programming%29) are lines of human readable text that describe in English what the code is suppose to be doing or accomplishing. Commenting your code is an essential part of programming.You might use comments to \n",
      "\n",
      "* clarify nearby Python code\n",
      "* make notes to yourself to fix something someday\n",
      "* for whatever purpose you like. \n",
      "\n",
      "You mark a comment by using the # character; everything from that point on to the end of the current line is part of the comment. \n",
      "\n",
      "\n",
      "You\u2019ll usually see a comment on a line by itself, as shown here:\n",
      "\n",
      "    >>> # 60 sec/min * 60 min/hr * 24 hr/day\n",
      "    >>> seconds_per_day = 86400\n",
      "        \n",
      "Or on the same line as the code it is explaining:\n",
      "    \n",
      "    >>> seconds_per_day = 86400 # 60 sec/min * 60 min/hr * 24 hr/day\n",
      "        \n",
      "The # character has many names: hash, sharp, pound, or the sinister-sounding octothorpe. Whatever you call it, its effect lasts only to the end of the line on which it appears.\n",
      "\n",
      "If in quotes as a part of a string, the # has no special meaning:\n",
      "\n",
      "    >>> print(\"No comment: quotes make the # harmless.\")\n",
      "    No comment: quotes make the # harmless.\n",
      "\n",
      "\n",
      "###**Write comments like you would write in your lab notebook!** "
     ]
    },
    {
     "cell_type": "heading",
     "level": 1,
     "metadata": {},
     "source": [
      "You Try"
     ]
    },
    {
     "cell_type": "markdown",
     "metadata": {},
     "source": [
      "Often, you won't be analyzing data with Python directly at the command line, so let's take everything we have in the last two exercises (at the bottom of the page [here](http://nbviewer.ipython.org/urls/cgs.wustl.edu/~mgibson/bioinformatics/python/lessons/Python1_Variables-and-Functions.ipynb) and [here](http://nbviewer.ipython.org/urls/cgs.wustl.edu/~mgibson/bioinformatics/python/lessons/Python2_DataStructures.ipynb); also, use the up arrow to view previous commands), and put them all into a script called `analyze_heights.py` and run this script using `python analyze_heights.py`. Remember to include <code>#!/usr/bin/env python3</code> at the top of your script and comment your code!\n",
      "\n",
      "Do you get the same output that you did when running the same commands at the Python prompt?\n",
      "\n",
      "<img src=\"stopgo.jpeg\" width=\"100\" >"
     ]
    }
   ],
   "metadata": {}
  }
 ]
}