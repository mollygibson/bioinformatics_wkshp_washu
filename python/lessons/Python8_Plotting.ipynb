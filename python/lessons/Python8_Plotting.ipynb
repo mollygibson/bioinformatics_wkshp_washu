{
 "metadata": {
  "name": "",
  "signature": "sha256:bb5ee7746df7b505f65833b4a965ae51e16f3bd134d55e4365114f40a3629241"
 },
 "nbformat": 3,
 "nbformat_minor": 0,
 "worksheets": [
  {
   "cells": [
    {
     "cell_type": "heading",
     "level": 1,
     "metadata": {},
     "source": [
      "Plotting Your Data"
     ]
    }
   ],
   "metadata": {}
  }
 ]
}