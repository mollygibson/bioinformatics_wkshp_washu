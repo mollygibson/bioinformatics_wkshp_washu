{
 "metadata": {
  "name": "",
  "signature": "sha256:fe810287bcacf71cc25936024b6063e85e77bfb9014025368626be1aa62a890c"
 },
 "nbformat": 3,
 "nbformat_minor": 0,
 "worksheets": [
  {
   "cells": [
    {
     "cell_type": "heading",
     "level": 1,
     "metadata": {},
     "source": [
      "Introduction to Python"
     ]
    },
    {
     "cell_type": "heading",
     "level": 3,
     "metadata": {},
     "source": [
      "Why Python?"
     ]
    },
    {
     "cell_type": "markdown",
     "metadata": {},
     "source": [
      "Python is an easy language to learn as your first language for a number of reasons:\n",
      "\n",
      "1. It has a mostly-consistent syntax, so you can generally learn one way of doing things and then apply it in multiple places\n",
      "2. It has a sensible set of built-in libraries for doing lots of common tasks\n",
      "3. It is designed in such a way that there\u2019s an obvious way of doing most things\n",
      "4. It\u2019s one of the most widely-used languages in the world, and there\u2019s a lot of advice, documentation and tutorials available on the web\n",
      "5. It\u2019s designed in a way that lets you start to write useful programs as soon as possible\n",
      "6. Its use of indentation, while annoying to people who aren\u2019t used to it, is great for beginners as it enforces a certain amount of readability\n",
      "\n",
      "Python also has a couple of points to recommend it to biologists and scientists specifically:\n",
      "\n",
      "1. It\u2019s widely used in the scientific community\n",
      "2. It has a couple of very well-designed libraries for doing complex scientific computing \n",
      "3. It lend itself well to being integrated with other, existing tools\n",
      "4. It has features which make it easy to manipulate strings of characters (for example, strings of DNA bases and protein amino acid residues, which we as biologists are particularly fond of)"
     ]
    },
    {
     "cell_type": "heading",
     "level": 3,
     "metadata": {},
     "source": [
      "Which python?"
     ]
    },
    {
     "cell_type": "markdown",
     "metadata": {},
     "source": [
      "Python is currently at a tipping point, where developers are *starting* to switch to using Python version 3.x. There are a lot of discussions [here](https://wiki.python.org/moin/Python2orPython3) and [here](http://nbviewer.ipython.org/github/rasbt/python_reference/blob/master/tutorials/key_differences_between_python_2_and_3.ipynb) and even [here](http://learntocodewith.me/programming/python/python-2-vs-python-3/) on the differences and which one to start with. You can read these on your own time, but both are available to you. You can use `--version` to determine which version of Python you are using:\n",
      "\n",
      "        $ python --version\n",
      "        Python 2.7.6\n",
      "        \n",
      "        $ python3 --version\n",
      "        Python 3.4.0\n",
      "\n",
      "For today, we will stick with Python 3 and point out when there are difference to notice with Python 2."
     ]
    },
    {
     "cell_type": "heading",
     "level": 3,
     "metadata": {},
     "source": [
      "Interacting with python"
     ]
    },
    {
     "cell_type": "markdown",
     "metadata": {},
     "source": [
      "Today, we will interact with python in two ways:\n",
      "\n",
      "1. Directly on the Python command prompt/Python interpreter:\n",
      "    \n",
      "        mgibson@genomic:~$ python3\n",
      "        Python 3.4.0 (default, Apr 11 2014, 13:05:11) \n",
      "        [GCC 4.8.2] on linux2\n",
      "        Type \"help\", \"copyright\", \"credits\" or \"license\" for more information.\n",
      "        >>> \n",
      "        \n",
      "   Tip: to exit back to the unix command line:\n",
      "        >>> exit()\n",
      "        mgibson@genomic:~$ \n",
      "        \n",
      "2. Writing scripts and executing them from the unix command line:\n",
      "\n",
      "        mgibson@genomic:~$ python3 hello_world.py \n",
      "        hello world!\n",
      "        "
     ]
    },
    {
     "cell_type": "markdown",
     "metadata": {},
     "source": [
      "<img src=\"stopgo.jpeg\" width=\"100\">"
     ]
    },
    {
     "cell_type": "heading",
     "level": 1,
     "metadata": {},
     "source": [
      "The Basics: Variables, Operators, Functions, and Methods"
     ]
    },
    {
     "cell_type": "markdown",
     "metadata": {},
     "source": [
      "Before we can start building useful programs to analyze our data, we need to understand a few basic concepts and syntax that are common to all programs. "
     ]
    },
    {
     "cell_type": "heading",
     "level": 2,
     "metadata": {},
     "source": [
      "Variables"
     ]
    },
    {
     "cell_type": "markdown",
     "metadata": {},
     "source": [
      "The most basic component of any programming language are \"things\", also called **variables** or\n",
      "(in special cases) objects.\n",
      "\n",
      "The most common types of \"things\" in Python are **integers, floats, strings, booleans**, and\n",
      "some special objects of various types:\n",
      "\n",
      "* **booleans** (which have the value True or False)\n",
      "* **integers** (whole numbers such as 42 and 100000000)\n",
      "* **floats** (numbers with decimal points such as 3.14159, or sometimes exponents like 1.0e8, which means one times ten to the eighth power, or 100000000.0)\n",
      "* **strings** (sequences of text characters)\n",
      "\n",
      "\"things\" can be stored as variables. In Python, you use = to assign a value to a variable.\n",
      "    >>> a = 2\n",
      "    >>> b = 'hello'\n",
      "    >>> c = True\n",
      "    >>> d = 1.0\n",
      "    >>> a, b, c, d\n",
      "    2 hello True 1.0\n",
      "    \n",
      "Variables have 'types':\n",
      "    >>> type(a)\n",
      "    <type 'int'>\n",
      "    >>> type(b)\n",
      "    <type 'str'>\n",
      "    >>> type(c)\n",
      "    <type 'bool'>\n",
      "    >>> type(d)\n",
      "    <type 'float'>\n",
      "    \n",
      "Python *variables are just names* for the data they contain:\n",
      "\n",
      "    >>> a = 1\n",
      "    >>> b = a\n",
      "    >>> a = 2\n",
      "    >>> b\n",
      "    1\n",
      "\n",
      "### Quick note on variable names\n",
      "\n",
      "1. You can use any letter, the special characters `_` and every number provided you do not start with it. \n",
      "\n",
      "2. White spaces and signs with special meanings in Python, as \u201c+\u201d and \u201c-\u201d are not allowed.\n",
      "\n",
      "1. Python has **reserved words**, these are words that mean a specific thing in python and can't be used as variable names:\n",
      "        \n",
      "        False      class      finally    is         return\n",
      "        None       continue   for        lambda     try\n",
      "        True       def        from       nonlocal   while\n",
      "        and        del        global     not        with\n",
      "        as         elif       if         or         yield\n",
      "        assert     else       import     pass\n",
      "        break      except     in         raise\n",
      "\n",
      "2. Python is case sensitive:\n",
      "\n",
      "        >>> a = 4\n",
      "        >>> A = 2\n",
      "        >>> print(a)\n",
      "        4\n",
      "        \n",
      "3. When writing a program, you should always use a descriptive, reasonably lengthed, name. [Here](http://www.makinggoodsoftware.com/2009/05/04/71-tips-for-naming-variables/) is a good list of tips for naming variables.\n",
      "\n",
      "    "
     ]
    },
    {
     "cell_type": "heading",
     "level": 2,
     "metadata": {},
     "source": [
      "Working with Variables"
     ]
    },
    {
     "cell_type": "markdown",
     "metadata": {},
     "source": [
      "Just storing data in variables isn't much use to us. Right away, we'd like to start performing\n",
      "operations and manipulations on data and variables.\n",
      "\n",
      "There are three very common means of performing an operation on a thing or variable:\n",
      "1. Operators\n",
      "2. Functions\n",
      "3. Methods"
     ]
    },
    {
     "cell_type": "heading",
     "level": 2,
     "metadata": {},
     "source": [
      "1. Operators"
     ]
    },
    {
     "cell_type": "markdown",
     "metadata": {},
     "source": [
      "Most of the basic math operators work like you think they should for numbers:\n",
      "\n",
      "    >>> a = 2\n",
      "    >>> b = 3\n",
      "    >>> a + b\n",
      "    5\n",
      "    >>> a * b\n",
      "    6\n",
      "    >>> a / b\n",
      "    0.6666666666666666\n",
      "    >>> a ** b\n",
      "    8\n",
      "\n",
      "Also watch out for exponentiation - you want **, not ^.\n",
      "\n",
      "    >>> 2 ** 3\n",
      "    8\n",
      "    >>> 2 ^ 3\n",
      "    1\n",
      "    \n",
      "There are also operators for strings.\n",
      "\n",
      "    >>> 'hello' + 'world'\n",
      "    helloworld\n",
      "    >>> 'hello' * 3\n",
      "    hellohellohello\n",
      "    \n",
      "Boolean operators compare two things.\n",
      "\n",
      "    >>> a = (1 > 3)\n",
      "    >>> b = (3 == 3)\n",
      "    >>> a\n",
      "    False\n",
      "    >>> b\n",
      "    True\n",
      "    >>> a or b\n",
      "    True\n",
      "    >>> a and b\n",
      "    False"
     ]
    },
    {
     "cell_type": "heading",
     "level": 2,
     "metadata": {},
     "source": [
      "2. Functions"
     ]
    },
    {
     "cell_type": "markdown",
     "metadata": {},
     "source": [
      "A **function** is a block of organized, reusable code that is used to perform a single, related action. Functions provide better modularity for your program and a high degree of code reusing.\n",
      "\n",
      "The syntax for calling a function is:\n",
      "\n",
      "    functionName(parameter1, parameter2, ...)\n",
      "\n",
      "Python gives you many built-in functions. We have already used a function: <code>type()</code>. This function takes a variable and returns the type of that variable. You can also create your own functions -- we will come back to this soon. \n",
      "\n",
      "Some more examples of built-in functions:\n",
      "\n",
      "    >>> type(3)\n",
      "    <type 'int'>\n",
      "    >>> len('hello')\n",
      "    5\n",
      "    >>> round(3.3)\n",
      "    3\n",
      "    \n",
      "Many useful functions are not in the Python built in library, but are in external\n",
      "scientific **packages**. These need to be imported into your Python notebook (or program) before\n",
      "they can be used. One of the most important of these for scientific programming is [numpy](http://www.numpy.org/). \n",
      "\n",
      "Let's import numpy:\n",
      "\n",
      "    >>> import numpy as np\n",
      "    \n",
      "To use a **function** called <code>sqrt</code> to calculate the square root from the **package** numpy, use the '.' (dot) notation:\n",
      "\n",
      "    >>> print(np.sqrt(4))\n",
      "    2.0\n",
      "    \n",
      "Numpy also defines important variables:\n",
      "\n",
      "    >>> print(np.pi)  # Not a function, just a variable\n",
      "    3.14159265359\n",
      "    \n",
      "We can also manipulate these specially definied variables:\n",
      "\n",
      "    >>> print(np.sin(np.pi))\n",
      "    1.22464679915e-16\n",
      "    \n",
      "In fact, **print** itself is a function! (Note: in Python 2, print is a special **statement** and is invoked without the functionc call: `print np.sin(np.pi))`"
     ]
    },
    {
     "cell_type": "heading",
     "level": 2,
     "metadata": {},
     "source": [
      "3. Methods"
     ]
    },
    {
     "cell_type": "markdown",
     "metadata": {},
     "source": [
      "Before we get any farther into the Python language, we have to say a word about \"objects\". We\n",
      "will not be teaching object oriented programming in this workshop, but you will encounter objects\n",
      "throughout Python (in fact, even seemingly simple things like ints and strings are actually\n",
      "objects in Python).\n",
      "\n",
      "In the simplest terms, you can think of an object as a small bundled \"thing\" that contains within\n",
      "itself both (1) data and (2) functions that operate on that data. For example, strings in Python are\n",
      "objects that contain a set of characters and also various functions that operate on the set of\n",
      "characters. When bundled in an object, these functions are called \"methods\".\n",
      "\n",
      "Instead of the \"normal\" `function(arguments)` syntax, methods are called using the\n",
      "syntax `variable.method(arguments)`.\n",
      "\n",
      "\n",
      "A string is actually an object:\n",
      "\n",
      "    >>> a = 'hello, world'\n",
      "    >>> print(type(a))\n",
      "    <type 'str'>\n",
      "\n",
      "Objects have bundled methods:\n",
      "    \n",
      "    >>> a.capitalize()\n",
      "    Hello, world\n",
      "    >>> a.replace('l', 'X')\n",
      "    heXXo, worXd"
     ]
    },
    {
     "cell_type": "markdown",
     "metadata": {},
     "source": [
      "## Type conversions\n",
      "\n",
      "Sometimes, when working with variables of one type, you want to change them to a different type in order to use them for a specific purpose. For example, maybe you have a string of digits that you want to perform a numerical calculation on. You can't do this with strings, but you can with floats and integers. To do convert data types, you use the built-in functions: `int(), str(),` and `float()`.  \n",
      "\n",
      "For example, converting a floating-point number to an integer just lops off everything after the decimal point:\n",
      "\n",
      "    >>> int(98.6)\n",
      "    98\n",
      "    >>> int(1.0e4)\n",
      "    10000\n",
      "    \n",
      "Here\u2019s an example of converting a text string that contains only digits, possibly with + or - signs:\n",
      "\n",
      "    >>> int('99')\n",
      "    99\n",
      "    >>> int('-23')\n",
      "    -23\n",
      "    >>> int('+12')\n",
      "    12\n",
      "    \n",
      "Converting an integer to an integer doesn\u2019t change anything but doesn\u2019t hurt either:\n",
      "\n",
      "    >>> int(12345)\n",
      "    12345\n",
      "    \n",
      "If you try to convert something that doesn\u2019t look like a number, you\u2019ll get an **exception** (Errors detected during execution):\n",
      "\n",
      "    >>> int('99 bottles of beer on the wall')\n",
      "    Traceback (most recent call last):\n",
      "      File \"<stdin>\", line 1, in <module>\n",
      "    ValueError: invalid literal for int() with base 10: '99 bottles of beer on the wall'\n",
      "    >>> int('')\n",
      "    Traceback (most recent call last):\n",
      "      File \"<stdin>\", line 1, in <module>\n",
      "    ValueError: invalid literal for int() with base 10: ''"
     ]
    },
    {
     "cell_type": "heading",
     "level": 1,
     "metadata": {},
     "source": [
      "You Try"
     ]
    },
    {
     "cell_type": "markdown",
     "metadata": {},
     "source": [
      "Throughout the lessons, we will successively build towards a program that will calculate the\n",
      "variance of some measurements,  in this case `Height in Meters`.  The first thing we want to do is convert from an antiquated measurement system.\n",
      "\n",
      "To change inches into metres we use the following equation (conversion factor is rounded)\n",
      "\n",
      "##$metre = \\frac{inches}{39}$\n",
      "\n",
      "1. Create a variable for the conversion factor, called `inches_in_meter`. (Hint, there are 39.4 inches in a meter.)\n",
      "1. Create a variable (`inches`) for your height in inches, as inaccurately as you want.\n",
      "2. Divide `inches` by `inches_in_meter`, and store the result in a new variable, `meters`.\n",
      "1. Print the result\n",
      "4. Print the your height in both inches and meters in a sentence: \"My height is 64 inches or 1.63 meters.\"\n",
      "    \n",
      "    **Hint:** you might need to do a type conversion.\n",
      "\n",
      "<img src=\"stopgo.jpeg\" width=\"100\">"
     ]
    }
   ],
   "metadata": {}
  }
 ]
}