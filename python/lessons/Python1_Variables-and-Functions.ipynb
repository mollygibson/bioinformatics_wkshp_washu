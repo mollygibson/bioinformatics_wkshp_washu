{
 "metadata": {
  "name": "",
  "signature": "sha256:2c73a7410a43d2a4df16c8173d969382d7b8b71481426ad3b6aea2c853ac44c2"
 },
 "nbformat": 3,
 "nbformat_minor": 0,
 "worksheets": [
  {
   "cells": [
    {
     "cell_type": "heading",
     "level": 1,
     "metadata": {},
     "source": [
      "Scientific Programming with Python"
     ]
    },
    {
     "cell_type": "heading",
     "level": 3,
     "metadata": {},
     "source": [
      "Why Python?"
     ]
    },
    {
     "cell_type": "markdown",
     "metadata": {},
     "source": [
      "Python is an easy language to learn as your first language for a number of reasons:\n",
      "\n",
      "1. It has a mostly-consistent syntax, so you can generally learn one way of doing things and then apply it in multiple places\n",
      "2. It has a sensible set of built-in libraries for doing lots of common tasks\n",
      "3. It is designed in such a way that there\u2019s an obvious way of doing most things\n",
      "4. It\u2019s one of the most widely-used languages in the world, and there\u2019s a lot of advice, documentation and tutorials available on the web\n",
      "5. It\u2019s designed in a way that lets you start to write useful programs as soon as possible\n",
      "6. Its use of indentation, while annoying to people who aren\u2019t used to it, is great for beginners as it enforces a certain amount of readability\n",
      "\n",
      "Python also has a couple of points to recommend it to biologists and scientists specifically:\n",
      "\n",
      "1. It\u2019s widely used in the scientific community\n",
      "2. It has a couple of very well-designed libraries for doing complex scientific computing \n",
      "3. It lend itself well to being integrated with other, existing tools\n",
      "4. It has features which make it easy to manipulate strings of characters (for example, strings of DNA bases and protein amino acid residues, which we as biologists are particularly fond of)\n"
     ]
    },
    {
     "cell_type": "heading",
     "level": 3,
     "metadata": {},
     "source": [
      "Interacting with python"
     ]
    },
    {
     "cell_type": "markdown",
     "metadata": {},
     "source": [
      "Today, we will interact with python in two ways:\n",
      "\n",
      "1. Directly on the Python command prompt/Python interpreter:\n",
      "    \n",
      "        mgibson@genomic:~$ python\n",
      "        Python 3.4.0 (default, Apr 11 2014, 13:05:11) \n",
      "        [GCC 4.8.2] on linux2\n",
      "        Type \"help\", \"copyright\", \"credits\" or \"license\" for more information.\n",
      "        >>> \n",
      "        \n",
      "   Tip: to exit back to the unix command line:\n",
      "        >>> exit()\n",
      "        mgibson@genomic:~$ \n",
      "        \n",
      "2. Writing scripts and executing them from the unix command line:\n",
      "\n",
      "        mgibson@genomic:~$ python hello_world.py \n",
      "        hello world!\n",
      "        "
     ]
    },
    {
     "cell_type": "markdown",
     "metadata": {},
     "source": [
      "<img src=\"stopgo.jpeg\" width=\"100\">"
     ]
    },
    {
     "cell_type": "heading",
     "level": 1,
     "metadata": {},
     "source": [
      "The Basics: Variables, Operators, Functions, and Methods"
     ]
    },
    {
     "cell_type": "markdown",
     "metadata": {},
     "source": [
      "Before we can start building useful programs to analyze our data, we need to understand a few basic concepts and syntax that are common to all programs. "
     ]
    },
    {
     "cell_type": "heading",
     "level": 2,
     "metadata": {},
     "source": [
      "Variables"
     ]
    },
    {
     "cell_type": "markdown",
     "metadata": {},
     "source": [
      "The most basic component of any programming language are \"things\", also called **variables** or\n",
      "(in special cases) objects.\n",
      "\n",
      "The most common types of \"things\" in Python are **integers, floats, strings, booleans**, and\n",
      "some special objects of various types:\n",
      "* integers: a whole number\n",
      "* floats: floating-point number or decimal\n",
      "* strings: can include numbers, letters, and various symbols and be enclosed by either double or single quote\n",
      "* booleans: a binary variable, having two possible values called \u201cTrue\u201d and \u201cFalse.\u201d\n",
      "\n",
      "\"things\" can be stored as variables:\n",
      "    >>> a = 2\n",
      "    >>> b = 'hello'\n",
      "    >>> c = True\n",
      "    >>> d = 1.0\n",
      "    >>> a, b, c, d\n",
      "    2 hello True 1.0\n",
      "    \n",
      "Variables have 'types':\n",
      "    >>> type(a)\n",
      "    <type 'int'>\n",
      "    >>> type(b)\n",
      "    <type 'str'>\n",
      "    >>> type(c)\n",
      "    <type 'bool'>\n",
      "    >>> type(d)\n",
      "    <type 'float'>\n",
      "    \n",
      "Variables can be reassigned to the same values as other variables:\n",
      "    >>> a = 1\n",
      "    >>> b = a\n",
      "    >>> a = 2\n",
      "    >>> b\n",
      "    1"
     ]
    },
    {
     "cell_type": "heading",
     "level": 2,
     "metadata": {},
     "source": [
      "Working with Variables"
     ]
    },
    {
     "cell_type": "markdown",
     "metadata": {},
     "source": [
      "Just storing data in variables isn't much use to us. Right away, we'd like to start performing\n",
      "operations and manipulations on data and variables.\n",
      "\n",
      "There are three very common means of performing an operation on a thing or variable:\n",
      "1. Operators\n",
      "2. Functions\n",
      "3. Methods"
     ]
    },
    {
     "cell_type": "heading",
     "level": 2,
     "metadata": {},
     "source": [
      "1. Operators"
     ]
    },
    {
     "cell_type": "markdown",
     "metadata": {},
     "source": [
      "Most of the basic math operators work like you think they should for numbers:\n",
      "\n",
      "    >>> a = 2\n",
      "    >>> b = 3\n",
      "    >>> a + b\n",
      "    5\n",
      "    >>> a * b\n",
      "    6\n",
      "    >>> a / b\n",
      "    0.6666666666666666\n",
      "    >>> a ** b\n",
      "    8\n",
      "\n",
      "Also watch out for exponentiation - you want **, not ^.\n",
      "\n",
      "    >>> 2 ** 3\n",
      "    8\n",
      "    >>> 2 ^ 3\n",
      "    1\n",
      "    \n",
      "There are also operators for strings.\n",
      "\n",
      "    >>> 'hello' + 'world'\n",
      "    helloworld\n",
      "    >>> 'hello' * 3\n",
      "    hellohellohello\n",
      "    \n",
      "Boolean operators compare two things.\n",
      "\n",
      "    >>> a = (1 > 3)\n",
      "    >>> b = (3 == 3)\n",
      "    >>> a\n",
      "    False\n",
      "    >>> b\n",
      "    True\n",
      "    >>> a or b\n",
      "    True\n",
      "    >>> a and b\n",
      "    False"
     ]
    },
    {
     "cell_type": "heading",
     "level": 2,
     "metadata": {},
     "source": [
      "2. Functions"
     ]
    },
    {
     "cell_type": "markdown",
     "metadata": {},
     "source": [
      "A **function** is a block of organized, reusable code that is used to perform a single, related action. Functions provide better modularity for your program and a high degree of code reusing.\n",
      "\n",
      "The syntax for calling a function is:\n",
      "\n",
      "    functionName(parameter1, parameter2, ...)\n",
      "\n",
      "Python gives you many built-in functions. We have already used a function: <code>type()</code>. This function takes a variable and returns the type of that variable. You can also create your own functions -- we will come back to this soon. \n",
      "\n",
      "Some more examples of built-in functions:\n",
      "\n",
      "    >>> type(3)\n",
      "    <type 'int'>\n",
      "    >>> len('hello')\n",
      "    5\n",
      "    >>> round(3.3)\n",
      "    3\n",
      "    \n",
      "Many useful functions are not in the Python built in library, but are in external\n",
      "scientific **packages**. These need to be imported into your Python notebook (or program) before\n",
      "they can be used. One of the most important of these for scientific programming is [numpy](http://www.numpy.org/). \n",
      "\n",
      "Let's import numpy:\n",
      "\n",
      "    >>> import numpy\n",
      "    \n",
      "To use a **function** called <code>sqrt</code> to calculate the square root from the **package** numpy, use the '.' (dot) notation:\n",
      "\n",
      "    >>> print(numpy.sqrt(4))\n",
      "    2.0\n",
      "    \n",
      "Numpy also defines important variables:\n",
      "\n",
      "    >>> print(numpy.pi)  # Not a function, just a variable\n",
      "    3.14159265359\n",
      "    \n",
      "We can also manipulate these specially definied variables:\n",
      "\n",
      "    >>> print(numpy.sin(np.pi))\n",
      "    1.22464679915e-16\n",
      "    \n",
      "In fact, **print** itself is a function!"
     ]
    },
    {
     "cell_type": "heading",
     "level": 2,
     "metadata": {},
     "source": [
      "3. Methods"
     ]
    },
    {
     "cell_type": "markdown",
     "metadata": {},
     "source": [
      "Before we get any farther into the Python language, we have to say a word about \"objects\". We\n",
      "will not be teaching object oriented programming in this workshop, but you will encounter objects\n",
      "throughout Python (in fact, even seemingly simple things like ints and strings are actually\n",
      "objects in Python).\n",
      "\n",
      "In the simplest terms, you can think of an object as a small bundled \"thing\" that contains within\n",
      "itself both (1) data and (2) functions that operate on that data. For example, strings in Python are\n",
      "objects that contain a set of characters and also various functions that operate on the set of\n",
      "characters. When bundled in an object, these functions are called \"methods\".\n",
      "\n",
      "Instead of the \"normal\" `function(arguments)` syntax, methods are called using the\n",
      "syntax `variable.method(arguments)`.\n",
      "\n",
      "\n",
      "A string is actually an object:\n",
      "\n",
      "    >>> a = 'hello, world'\n",
      "    >>> print(type(a))\n",
      "    <type 'str'>\n",
      "\n",
      "Objects have bundled methods:\n",
      "    \n",
      "    >>> a.capitalize()\n",
      "    Hello, world\n",
      "    >>> a.replace('l', 'X')\n",
      "    heXXo, worXd"
     ]
    },
    {
     "cell_type": "heading",
     "level": 1,
     "metadata": {},
     "source": [
      "You Try"
     ]
    },
    {
     "cell_type": "markdown",
     "metadata": {},
     "source": [
      "Throughout the lessons, we will successively build towards a program that will calculate the\n",
      "variance of some measurements,  in this case `Height in Meters`.  The first thing we want to do is convert from an antiquated measurement system.\n",
      "\n",
      "To change inches into metres we use the following equation (conversion factor is rounded)\n",
      "\n",
      "##$metre = \\frac{inches}{39}$\n",
      "\n",
      "1. Create a variable for the conversion factor, called `inches_in_meter`. (Hint, there are 39.4 inches in a meter.)\n",
      "1. Create a variable (`inches`) for your height in inches, as inaccurately as you want.\n",
      "2. Divide `inches` by `inches_in_meter`, and store the result in a new variable, `meters`.\n",
      "1. Print the result\n",
      "\n",
      "<img src=\"stopgo.jpeg\" width=\"100\">"
     ]
    },
    {
     "cell_type": "code",
     "collapsed": false,
     "input": [],
     "language": "python",
     "metadata": {},
     "outputs": []
    }
   ],
   "metadata": {}
  }
 ]
}