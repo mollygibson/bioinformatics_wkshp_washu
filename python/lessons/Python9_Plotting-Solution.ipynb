{
 "metadata": {
  "name": "",
  "signature": "sha256:aff7143b6d69cffc70d37028aae03b52e2811569bafe66957d9f3819de1adabf"
 },
 "nbformat": 3,
 "nbformat_minor": 0,
 "worksheets": [
  {
   "cells": [
    {
     "cell_type": "markdown",
     "metadata": {},
     "source": [
      "# You Try \n",
      "\n",
      "There are lots of formatting options to play with. Modify the code above to make some changes to the\n",
      "formatting of these plots.\n",
      "\n",
      "First, make some changes to the axes:\n",
      "\n",
      "1. Change the x axis on ax1 to run from 0 to 4. (**Hint**: set_xlim)\n",
      "2. Add labels to the x axis on both subplots (**Hint**: set_xlabel, set_ylabel)\n",
      "\n",
      "Second, make some changes to the lines that you plotted using ax1.plot(...). These changes can be made\n",
      "by looking at the various arguments that you can give to the plot method. You can do this easily by\n",
      "typing ax1.plot? in the cell below and running it - this will give you pop-up help for the plot method.\n",
      "\n",
      "1. Make the sine line on ax1 red and dashed.\n",
      "2. Put a circular black marker on top of the cos line on ax2. Make it really big.\n",
      "\n",
      "_Bonus_: Eliminate the box around the legend on the second subplot.\n",
      "\n",
      "<img src=\"stopgo.jpeg\" width=\"100\">\n",
      "\n",
      "## You Try - Solution\n",
      "\n",
      "1. First, create an empty figure with 2 subplots. The arguments (1, 2) indicate 1 row and 2 cols.\n",
      "        >>> fig, (ax1, ax2) = plt.subplots(1, 2)\n",
      "\n",
      "2. Next, put one line on the first axis and both lines on the second axis. On the second axes, add a legend to distinguish the two lines.\n",
      "        >>> ax1.plot(x, y1)\n",
      "        >>> ax1.set_ylabel('Hello')\n",
      "        >>> ax2.set_ylabel('There')\n",
      "\n",
      "3. Notice that I can assign the output of \"plot\" to a variable. This is the \"line object\" referring to the line we just drew. IMPORTANT: 'plot' actually returns a *list* of line objects, even if there is only 1. So you can get it with l1[0]\n",
      "        >>> lines1 = ax2.plot(x, y1, label='sin')  # The labels are what appear in the legend\n",
      "        >>> lines2 = ax2.plot(x, y2, label='cos')\n",
      "        >>> l1 = lines1[0]\n",
      "        >>> l2 = lines2[0]\n",
      "        >>> ax2.legend()\n",
      "\n",
      "4. The function 'tight_layout' is useful for making sure that plots don't overlap\n",
      "        >>> plt.tight_layout()\n",
      "        \n",
      "5. Save the figure\n",
      "        >>> fig.savefig(\"youtry.png\")"
     ]
    }
   ],
   "metadata": {}
  }
 ]
}