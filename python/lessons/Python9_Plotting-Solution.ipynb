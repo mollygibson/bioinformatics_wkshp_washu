{
 "metadata": {
  "name": "",
  "signature": "sha256:9f5d1c64dc8b69ac23fe8a997a7819e0c40be81a0179bded32cf291b8399c20a"
 },
 "nbformat": 3,
 "nbformat_minor": 0,
 "worksheets": [
  {
   "cells": [
    {
     "cell_type": "markdown",
     "metadata": {},
     "source": [
      "# Plotting your data\n"
     ]
    },
    {
     "cell_type": "markdown",
     "metadata": {},
     "source": [
      "Yesterday, we learned how to analyze data using python, but eventually, we want to be able to visualize the data as well."
     ]
    },
    {
     "cell_type": "markdown",
     "metadata": {},
     "source": [
      "##What's the goal of this lecture?\n",
      "\n",
      "Before we dive in to plotting with python, we should note that the matplotlib library is very complex, and will take you a long time to learn in its entirety (we're still doing this ourselves). \n",
      "\n",
      "This lecture is meant to be a taste of the syntax that we generally use when plotting in python (and which we use in python in general). It is also meant to be a brief showing of what matplotlib can do. At the end, we also have some useful links to other plotting libraries that are fancier, but usually more high-level, than matplotlib."
     ]
    },
    {
     "cell_type": "markdown",
     "metadata": {},
     "source": [
      "### What is matplotlib?\n",
      "\n",
      "Matplotlib is the most popular and mature library for plotting data using\n",
      "Python. It has all of the functionality you would expect, including the ability to control\n",
      "the formatting of plots and figures at a very fine level.\n",
      "\n",
      "The official matplotlib documentation is at http://matplotlib.org/  \n",
      "The matplotlib gallery is at http://matplotlib.org/gallery.html"
     ]
    },
    {
     "cell_type": "markdown",
     "metadata": {},
     "source": [
      "### Importing matplotlib\n",
      "\n",
      "**Matplotlib is often used through 'pyplot'**, which provides a high-level interface for\n",
      "plotting.  In IPython or the IPython notebook, it's easiest to use the `pylab` magic, which imports matplotlib, numpy, and scipy."
     ]
    },
    {
     "cell_type": "markdown",
     "metadata": {},
     "source": [
      "If you are using 'regular' Python, however, you'll want the following. You'll also need to separately import numpy and any other packages you need.\n",
      "\n",
      "    >>> import matplotlib.pyplot as plt\n",
      "    >>> import numpy as np\n",
      "    >>> import scipy as sp"
     ]
    },
    {
     "cell_type": "markdown",
     "metadata": {},
     "source": [
      "## The Basics: Creating Figures\n",
      "\n",
      "There are two major challenges with creating figures. \n",
      "\n",
      "1. Understanding the syntax to actually make the basic plot appear. \n",
      "2. Second is formatting the basic plot to look exactly how you would like it to look. In general, the formatting will probably take you longer..."
     ]
    },
    {
     "cell_type": "markdown",
     "metadata": {},
     "source": [
      "First, let's create some data that we can use for the plotting sin and cosine waves:\n",
      "        >>> x = np.linspace(0, 2*np.pi)\n",
      "        >>> y1 = np.sin(x)\n",
      "        >>> y2 = np.cos(x)"
     ]
    },
    {
     "cell_type": "markdown",
     "metadata": {},
     "source": [
      "1. We first create a plot figure object and axis objects:\n",
      "        \n",
      "        >>> fig, axis = plt.subplots()\n",
      "        \n",
      "2. On the axis that we made, we can plot our sin wave and do a lot of things to format the plot:\n",
      "        >>> axis.plot(x, y1)\n",
      "        >>> axis.set_title(\"My heart be still, this one's even better\")\n",
      "        >>> axis.set_xlabel(\"Number of hats owned\")\n",
      "        >>> axis.set_ylabel(\"Coolness factor\")\n",
      "        \n",
      "3. Now that we have the figure the way we want it, we can save it to a file to look at:\n",
      "        >>> fig.savefig(\"myfirstfig.png\")"
     ]
    },
    {
     "cell_type": "markdown",
     "metadata": {},
     "source": [
      "In simple matplotlib plotting, there are two concepts to distinguish:\n",
      "\n",
      "- __Figure__ - the entire figure, like what you might see in a journal.  This includes all\n",
      "subplots, axes, lines, labels, etc. The whole encilada. Another way to think about this is like a _canvas_, upon which you will draw all kinds of different things \n",
      "  \n",
      "- __Subplot/Axes__ - one of the sub-sections of the figure, labeled (a), (b), etc. in\n",
      "articles. Each subplot will contain one Axes object, which is the container where all of the\n",
      "useful stuff, such as actual lines, legends, labels, etc., are actually housed.\n",
      "\n",
      "For example, here's how to make one figure with two subplots, the second of which contains\n",
      "two lines.  There are many ways to do this, but perhaps the quickest/easiest is to use plt.subplots\n",
      "\n",
      "This function returns one object for the figure and one for each axes that you create."
     ]
    },
    {
     "cell_type": "markdown",
     "metadata": {},
     "source": [
      "1. First, create an empty figure with 2 subplots. The arguments (1, 2) indicate 1 row and 2 cols.\n",
      "        >>> fig, (ax1, ax2) = plt.subplots(1, 2)\n",
      "\n",
      "2. Next, put one line on the first axis and both lines on the second axis. On the second axes, add a legend to distinguish the two lines:\n",
      "        >>> ax1.plot(x, y1)\n",
      "\n",
      "3. Notice that I can assign the output of \"plot\" to a variable. This is the \"line object\" referring to the line we just drew.\n",
      "        >>> l1 = ax2.plot(x, y1, label='sin')  # The labels are what appear in the legend\n",
      "        >>> ax2.legend()\n",
      "\n",
      "4. Finally, save the figure as a png file\n",
      "        >>> fig.savefig('myfig-with2plots.png')"
     ]
    },
    {
     "cell_type": "markdown",
     "metadata": {},
     "source": [
      "> Everything is an object.  When we created the above plot, we first created a figure object.  This serves as a container for the axis objects, which themselves are containers for the things we draw inside them.  Those things (e.g., lines, tickmarks, and legends) _are themselves_ objects.  This means we should be able to assign them to variables to do all kinds of interesting things."
     ]
    },
    {
     "cell_type": "markdown",
     "metadata": {},
     "source": [
      "### You Try - Simple formatting\n",
      "\n",
      "There are lots of formatting options to play with. Modify the code above to make some changes to the\n",
      "formatting of these plots.\n",
      "\n",
      "First, make some changes to the axes:\n",
      "\n",
      "1. Change the x axis on ax1 to run from 0 to 4. (**Hint**: set_xlim)\n",
      "2. Add labels to the x axis on both subplots (**Hint**: set_xlabel, set_ylabel)"
     ]
    },
    {
     "cell_type": "markdown",
     "metadata": {},
     "source": [
      "Second, make some changes to the lines that you plotted using ax1.plot(...). These changes can be made\n",
      "by looking at the various arguments that you can give to the plot method. You can do this easily by\n",
      "typing ax1.plot? in the cell below and running it - this will give you pop-up help for the plot method.\n",
      "\n",
      "1. Make the sine line on ax1 red and dashed.\n",
      "2. Put a circular black marker on top of the cos line on ax2. Make it really big.\n",
      "\n",
      "_Bonus_: Eliminate the box around the legend on the second subplot.\n",
      "\n",
      "<img src=\"stopgo.jpeg\" width=\"100\">"
     ]
    },
    {
     "cell_type": "markdown",
     "metadata": {},
     "source": [
      "### Solution\n",
      "\n",
      "1. First, create an empty figure with 2 subplots. The arguments (1, 2) indicate 1 row and 2 cols.\n",
      "        >>> fig, (ax1, ax2) = plt.subplots(1, 2)\n",
      "\n",
      "2. Next, put one line on the first axis and both lines on the second axis. On the second axes, add a legend to distinguish the two lines.\n",
      "        >>> ax1.plot(x, y1)\n",
      "        >>> ax1.set_ylabel('Hello')\n",
      "        >>> ax2.set_ylabel('There')\n",
      "\n",
      "3. Notice that I can assign the output of \"plot\" to a variable. This is the \"line object\" referring to the line we just drew. IMPORTANT: 'plot' actually returns a *list* of line objects, even if there is only 1. So you can get it with l1[0]\n",
      "        >>> lines1 = ax2.plot(x, y1, label='sin')  # The labels are what appear in the legend\n",
      "        >>> lines2 = ax2.plot(x, y2, label='cos')\n",
      "        >>> l1 = lines1[0]\n",
      "        >>> l2 = lines2[0]\n",
      "        >>> ax2.legend()\n",
      "\n",
      "4. The function 'tight_layout' is useful for making sure that plots don't overlap\n",
      "        >>> plt.tight_layout()"
     ]
    },
    {
     "cell_type": "markdown",
     "metadata": {},
     "source": [
      "### Other types of plots\n",
      "\n",
      "In the example above, we used the plot method to make line plots. There are also methods to\n",
      "make scatter plots, barplots, histograms, loglog plots, semilog plots, etc. Let's see how this works."
     ]
    },
    {
     "cell_type": "markdown",
     "metadata": {},
     "source": [
      "1. Make some data to plot\n",
      "        >>> x = np.arange(0, 100)\n",
      "        >>> y = np.random.rand(100)  # 100 random numbers\n",
      "\n",
      "2. Make a figure with 6 subplots and axes\n",
      "        >>> fig, ((ax1, ax2), (ax3, ax4), (ax5, ax6)) = plt.subplots(3, 2)\n",
      "\n",
      "3. Add data to each axis. Optional arguments to each method will customize each plot.\n",
      "        >>> ax1.plot(x, y)\n",
      "        >>> ax2.hist(y)\n",
      "        >>> ax3.scatter(x, y)\n",
      "        >>> ax4.boxplot(y)\n",
      "        >>> ax5.loglog(x, y)\n",
      "        >>> ax6.semilogx(x, y)\n",
      "        >>> plt.tight_layout()"
     ]
    },
    {
     "cell_type": "markdown",
     "metadata": {},
     "source": [
      "## The matplotlib gallery\n",
      "\n",
      "It can be very intimidating to try to craft exactly the figure that you want, especially if\n",
      "you are used to being able to adjust things visually using a program like Excel.\n",
      "\n",
      "If you get stuck and don't know where to start, or just want to learn more about what\n",
      "matplotlib can do, a great option is to have a look at the matplotlib gallery, which can be\n",
      "found at http://matplotlib.org/gallery.html. A good way to get started is to find a figure\n",
      "here that sort of looks like what you want, copy the code, and modify it for your own needs."
     ]
    },
    {
     "cell_type": "markdown",
     "metadata": {},
     "source": [
      "## Formatting figures\n",
      "\n",
      "Formatting figures often takes longer than actually setting them up and adding data.\n",
      "There are many different approaches to formatting figures in matplotlib (most goals can be\n",
      "accomplished in different ways, using different commands), and you will come across many\n",
      "of these as you learn more. The tips below give a few simple ways to get started."
     ]
    },
    {
     "cell_type": "markdown",
     "metadata": {},
     "source": [
      "### Common formatting tricks\n",
      "\n",
      "There are hundreds of formatting options available in matplotlib, many of which you will end\n",
      "up using occasionally. There are a few options, however, that you will use very frequently.\n",
      "A short list of these might include:\n",
      "\n",
      "- Changing axis limits\n",
      "- Changing line colors\n",
      "- Changing lines to dashed (for black and white figures)\n",
      "- Adding markers to lines\n",
      "- Make tick labels point outward instead of inward\n",
      "- Get rid of the box surrounding the plot\n",
      "- Adding subplot letters, like (a) and (b)\n",
      "\n",
      "Here's how to accomplish all of these things."
     ]
    },
    {
     "cell_type": "markdown",
     "metadata": {},
     "source": [
      "1. Make some data to plot\n",
      "        >>> x = np.linspace(0, 2*np.pi)\n",
      "        >>> y1 = np.sin(x)\n",
      "        >>> y2 = np.cos(x)\n",
      "\n",
      "2. First, create an empty figure with 1 subplot\n",
      "        >>> fig, ax1 = plt.subplots(1, 1)\n",
      "\n",
      "3. Add title and labels\n",
      "        >>> ax1.set_title('My Plot')\n",
      "        >>> ax1.set_xlabel('x')\n",
      "        >>> ax1.set_ylabel('y')\n",
      "\n",
      "4. Change axis limits\n",
      "        >>> ax1.set_xlim([0,2])\n",
      "        >>> ax1.set_ylim([-1, 2])\n",
      "\n",
      "5. Add the lines, changing their color, style, and marker\n",
      "        >>> ax1.plot(x, y1, 'k--o', label='sin') # Black line, dashed, with 'o' markers\n",
      "        >>> ax1.plot(x, y2, 'r-^', label='cos') # Red line, solid, with triangle-up markers\n",
      "\n",
      "6. Adjust tick marks and get rid of 'box'\n",
      "        >>> ax1.tick_params(direction='out', top=False, right=False) # Turn ticks out\n",
      "        >>> ax1.spines['top'].set_visible(False) # Get rid of top axis line\n",
      "        >>> ax1.spines['right'].set_visible(False) #  Get rid of bottom axis line\n",
      "\n",
      "7. Add subplot letter\n",
      "        >>> ax1.annotate('(a)', (0.01, 0.96), size=12, xycoords='figure fraction')\n",
      "\n",
      "8. Add legend\n",
      "        >>> ax1.legend()\n",
      "\n",
      "9. Finally, save the figure as a png file\n",
      "        >>> fig.savefig('myfig-formatted.png')"
     ]
    },
    {
     "cell_type": "markdown",
     "metadata": {},
     "source": [
      "You'll want to check that your formatting looks good by looking at the file that's being saved\n",
      "to your hard disk, since that's exactly how it will look to the publisher or when inserted\n",
      "into your manuscript.\n",
      "\n",
      "### Afterword\n",
      "\n",
      "Note that this is only the tip of the iceberg for plotting in python.  We've focused on matplotlib, which is the most common/well-developed plotting platform.  However, many others exist that you might be interested in.  Pandas has a lot of useful plotting features, and separate plotting packages are available for more specific data visualization problems (e.g., plotting on a map).\n",
      "\n",
      "#### Other packages worth looking into:\n",
      "\n",
      "#####Pretty wrappers around matplotlib\n",
      "- [Seaborn](http://www.stanford.edu/~mwaskom/software/seaborn/)\n",
      "- [prettyplotlib](http://olgabot.github.io/prettyplotlib/)\n",
      "- pandas (plotting libraries within)\n",
      "\n",
      "#####Alternative (and one day more powerful?) plotting packages\n",
      "- [ggplot (yes, ggplot)](http://blog.yhathq.com/posts/ggplot-for-python.html)\n",
      "\n",
      "- [Bokeh](http://bokeh.pydata.org/)\n",
      "- [Vincent](http://vincent.readthedocs.org/en/latest/)"
     ]
    }
   ],
   "metadata": {}
  }
 ]
}