{
 "metadata": {
  "name": "",
  "signature": "sha256:7b3b594183447d3f189d6b74248bb2e00b512b9ffb198f289ee4aed68f9fce55"
 },
 "nbformat": 3,
 "nbformat_minor": 0,
 "worksheets": [
  {
   "cells": [
    {
     "cell_type": "heading",
     "level": 1,
     "metadata": {},
     "source": [
      "Installing and Running Bioinformatics Software"
     ]
    }
   ],
   "metadata": {}
  }
 ]
}