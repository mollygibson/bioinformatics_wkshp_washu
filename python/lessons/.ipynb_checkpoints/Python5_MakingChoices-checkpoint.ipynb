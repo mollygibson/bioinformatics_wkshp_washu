{
 "metadata": {
  "name": "",
  "signature": "sha256:4eb4d2bcaceb2f74cfa774b1a0046f73aa8afc2d168ced2ec6066826493cd266"
 },
 "nbformat": 3,
 "nbformat_minor": 0,
 "worksheets": [
  {
   "cells": [
    {
     "cell_type": "heading",
     "level": 1,
     "metadata": {},
     "source": [
      "Making Choices"
     ]
    },
    {
     "cell_type": "markdown",
     "metadata": {},
     "source": [
      "Often we want to check if a condition is True and take one action if it is, and another action if the\n",
      "condition is False. We can achieve this in Python with an **if statement**.\n",
      "\n",
      "__TIP:__ You can use any expression that returns a boolean value (True or False) in an if statement.\n",
      "Common boolean operators are ==, !=, <, <=, >, >=. You can also use `is` and `is not` if you want to\n",
      "check if two variables are identical in the sense that they are stored in the same location in memory.\n",
      "\n",
      "* Example of a simple if statement:\n",
      "\n",
      "        >>> if x > 0:\n",
      "        ...     print 'x is positive'\n",
      "        ... elif x < 0:\n",
      "        ...     print 'x is negative'\n",
      "        ... else:\n",
      "        ...     print 'x is zero'\n",
      "    \n",
      "* If statements can rely on boolean variables\n",
      "        >>> x = -1\n",
      "        >>> test = (x > 0)\n",
      "        >>> print type(test); print test\n",
      "\n",
      "        >>> if test:\n",
      "        ...     print 'Test was true'"
     ]
    },
    {
     "cell_type": "heading",
     "level": 1,
     "metadata": {},
     "source": [
      "You Try"
     ]
    },
    {
     "cell_type": "markdown",
     "metadata": {},
     "source": [
      "Often once we perform an analysis, we want to test to see if something is greater or less than a specific value. We use conditioal, or if statement, to do this. \n",
      "\n",
      "1. In your script, `analyze_heights.py` test whether the `variance` is larger than 0.01, and print out a line that says \"variance more than 0.01: \" followed by the answer (either True or False).\n",
      "\n",
      "<img src=\"stopgo.jpeg\" width=\"100\">"
     ]
    }
   ],
   "metadata": {}
  }
 ]
}