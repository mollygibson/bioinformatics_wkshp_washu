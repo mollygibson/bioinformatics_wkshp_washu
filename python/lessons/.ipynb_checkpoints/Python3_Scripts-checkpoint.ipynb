{
 "metadata": {
  "name": "",
  "signature": "sha256:16e6b2c15a3e5388aab08a78a7ab48d7d0527c2f48e88d6ad50495dc344b799e"
 },
 "nbformat": 3,
 "nbformat_minor": 0,
 "worksheets": [
  {
   "cells": [
    {
     "cell_type": "heading",
     "level": 1,
     "metadata": {},
     "source": [
      "Your first script"
     ]
    },
    {
     "cell_type": "markdown",
     "metadata": {},
     "source": [
      "In our two lessons, we interacted with Python directly from the prompt (or the interpreter). Now, we will learn how to interact with Python in the way that you will most commonly interact: writing and executing scripts.\n",
      "\n",
      "Your first script, [as with many first time programmers](http://en.wikipedia.org/wiki/%22Hello,_world!%22_program), will be a simple script that prints \"Hello, world!\". \n",
      "\n",
      "First, create a file named \"hello_world.py\" with the following contents:\n",
      "\n",
      "    #!/usr/bin/env python \n",
      "    \n",
      "    # Print out hello world\n",
      "    print \"Hello, world!\"\n",
      "    \n",
      "Then, ecxecute the script from the unix command line:\n",
      "\n",
      "    $ python hello_world.py\n",
      "    Hello, world!\n",
      "    \n",
      "**A few things to notice:**\n",
      "\n",
      "1. The first line of every python script is always <code>#!/usr/bin/env python</code>. This allows the python inerpreter to be invoked. Thefore, if hello_world.py was marked as executable, we could omit invoking the python interpreter manually:\n",
      "\n",
      "        $ hello_world.py\n",
      "        Hello, world!\n",
      "        \n",
      "2. Python code is commented using the '#' character. Lines that start with '#' are ignored by the Python interpreter. We will talk more about this later.\n",
      "\n",
      "3. In Python 2, print is a statement that prints everything on the same line to STDOUT. In Python 3, print is a function. So, in Python 3, we would need to write <code>print(\"Hello, world!\")</code> instead. We will continue to use Python 2 syntax, but we wanted you to be aware of the change. To check the version of Python that you are currently running:\n",
      "\n",
      "        $ python --version\n",
      "        Python 2.7.6\n",
      "    \n",
      "<img src=\"stopgo.jpeg\" width=\"100\">\n",
      "    \n"
     ]
    },
    {
     "cell_type": "heading",
     "level": 2,
     "metadata": {},
     "source": [
      "Command Line Arguments"
     ]
    },
    {
     "cell_type": "markdown",
     "metadata": {},
     "source": [
      "The Python `sys` module provides access to any command-line arguments via the `sys.argv` list object. This serves two purpose:\n",
      "\n",
      "1. `sys.argv` is the list of command-line arguments.\n",
      "\n",
      "1. `len(sys.argv)` is the number of command-line arguments.\n",
      "\n",
      "\n",
      "Consider the following script called `get_cmd_ling_args.py`:\n",
      "    #!/usr/bin/python\n",
      "    \n",
      "    import sys\n",
      "    \n",
      "    print 'Number of arguments:', len(sys.argv), 'arguments.'\n",
      "    print 'Argument List:', str(sys.argv)\n",
      "    \n",
      "Running this program results in the following:\n",
      "\n",
      "    $ python get_cmd_ling_args arg1 arg2 arg3\n",
      "    Number of arguments: 4 arguments.\n",
      "    Argument List: ['get_cmd_ling_args', 'arg1', 'arg2', 'arg3']"
     ]
    },
    {
     "cell_type": "heading",
     "level": 2,
     "metadata": {},
     "source": [
      "Commenting your code"
     ]
    },
    {
     "cell_type": "markdown",
     "metadata": {},
     "source": [
      "[Comments](http://en.wikipedia.org/wiki/Comment_%28computer_programming%29) are lines of human readable text that describe in English what the code is suppose to be doing or accomplishing. Commenting your code is an essential part of programming. **Write comments like you would write in your lab notebook.** \n",
      "\n",
      "There are three types of comments that we will emphasize today:\n",
      "\n",
      "1. **File Comments:** Every .py file should have a high-level comment at the top describing the file's contents, how to use the code, and it's purpose.\n",
      "\n",
      "2. **In-line Comments:** \n",
      "\n",
      "2. **Function Comments:** Every function should have a comment describing:\n",
      "    what function does;\n",
      "    what its parameter values are\n",
      "    what value(s) it returns (if a function returns one type of value usually, and another value to indicate an error, your comment should describe both of these types of return values).\n",
      "    If a function has some tricky code, then use in-line comments to explain what it is doing.\n",
      "\n",
      "    My advice on writing function comments: write the function's comment first, then write the function code. For complicated functions, having a comment that lists the steps of the algorithm, will help you\n",
      "    When commenting stick to a particular style. For example:\n",
      "\n"
     ]
    }
   ],
   "metadata": {}
  }
 ]
}