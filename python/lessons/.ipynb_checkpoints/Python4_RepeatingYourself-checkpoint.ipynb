{
 "metadata": {
  "name": "",
  "signature": "sha256:70036e4b9dbb365cdd59f2055430543b07d3a1d92c3d9ea7f78462506f925001"
 },
 "nbformat": 3,
 "nbformat_minor": 0,
 "worksheets": [
  {
   "cells": [
    {
     "cell_type": "heading",
     "level": 1,
     "metadata": {},
     "source": [
      "Repeating yourself"
     ]
    },
    {
     "cell_type": "markdown",
     "metadata": {},
     "source": [
      "In this section and the next, we really start to take advantage of the power of programming languages to do things\n",
      "for us automatically.\n",
      "\n",
      "We start here with ways to repeat yourself. The two most common ways of doing this are known as **for\n",
      "loops** and **while loops**. For loops in Python are useful when you want to cycle over all of the items\n",
      "in a collection (such as all of the elements of an array), and while loops are useful when you want to\n",
      "cycle for an indefinite amount of time until some condition is met.\n",
      "\n",
      "The basic examples below will work for looping over lists, tuples, and arrays. Looping over dictionaries\n",
      "is a bit different, since there is a key and a value for each item in a dictionary. Have a look at the\n",
      "Python docs for more information.\n",
      "\n",
      "* Intention, sometimes referred to as *white space*, matters:\n",
      "\n",
      "        >>> wordlist = ['hi', 'hello', 'bye']\n",
      "        >>> for word in wordlist:\n",
      "        ...     print word + '!'\n",
      "        \n",
      "    **I'll say it again, INDENTION MATTERS:** Every idented statement after the for loop declaration is part of the for loop.  This rule holds true for while loops, if statements, functions, etc. Required identation is one of the reasons Python is such a beautiful language to read.\n",
      "    \n",
      "    If you do not have consistent indentation you will get an `IndentationError`.  Fortunately, most code editors will ensure your indentation is correction.\n",
      "        \n",
      "    *Note:* to complete the for loop in the interpreter, type control+enter\n",
      "    \n",
      "    \n",
      "* For loops can perform calculations on numbers. To calculate the sum of all values in a list:\n",
      "\n",
      "        >>> numlist = [1, 4, 77, 3]\n",
      "        >>> for num in numlist:\n",
      "        ...     total = total + num\n",
      "        >>> print \"Sum is\", total\n",
      "\n",
      "\n",
      "* Often, we want to loop over the indexes of a collection, not just the items or values:\n",
      "\n",
      "        >>> for i, word in enumerate(wordlist):\n",
      "        ...     print i, word, wordlist[i]\n",
      "\n",
      "* While loops are useful when you don't know how many steps you will need, and want to stop once a certain condition is met:\n",
      "\n",
      "        >>> while prod < 100:\n",
      "        ...     step = step + 1\n",
      "        ...     prod = prod * 2\n",
      "        ...     print step, prod\n",
      "        >>> print 'Reached a product of', prod, 'at step number', step\n",
      "\n"
     ]
    },
    {
     "cell_type": "heading",
     "level": 1,
     "metadata": {},
     "source": [
      "You Try"
     ]
    },
    {
     "cell_type": "markdown",
     "metadata": {},
     "source": [
      "We can now calculate the variance of the heights we collected before. Often, you won't be analyzing data with Python directly at the command line, so let's take everything we have done previously and put it in a script for us to just add onto from here on out:\n",
      "\n",
      "    wget https://cgs.wustl.edu/~mgibson/bioinformatics/python/exercises/analyze_heights.py\n",
      "\n",
      "As a reminder, **sample variance** is the calculated from the sum of squared differences of each observation from the mean:\n",
      "\n",
      "###$variance = \\frac{\\Sigma{(x-mean)^2}}{n-1}$\n",
      "\n",
      "where **mean** is the mean of our observations, **x** is each individual observation, and **n** is the number of observations.\n",
      "\n",
      "First, we need to calculate the mean:\n",
      "\n",
      "1. Create a variable `total` for the sum of the heights.\n",
      "2. Using a `for` loop, add each height to `total`.\n",
      "3. Find the mean by dividing this by the number of measurements, and store it as `mean`.\n",
      "\n",
      "__Note__: To get the number of things in a list, use `len(the_list)`.\n",
      "\n",
      "Now we'll use another loop to calculate the variance:\n",
      "\n",
      "1. Create a variable `sum_diffsq` for the sum of squared differences.\n",
      "2. Make a second `for` loop over `heights`.\n",
      "  - At each step, subtract the height from the mean and call it `diff`. \n",
      "  - Square this and call it `diffsq`.\n",
      "  - Add `diffsq` on to `sum_diffsq`.\n",
      "3. Divide `diffsq` by `n-1` to get the variance.\n",
      "4. Display the variance.\n",
      "\n",
      "__Note__: To square a number in Python, use `**`, eg. `5**2`.\n",
      "\n",
      "\n",
      "<img src=\"stopgo.jpeg\" width=\"100\">\n",
      "\n",
      "__Bonus__\n",
      "\n",
      "1. Test whether `variance` is larger than 0.01, and print out a line that says \"variance more than 0.01: \"\n",
      "followed by the answer (either True or False).\n"
     ]
    }
   ],
   "metadata": {}
  }
 ]
}