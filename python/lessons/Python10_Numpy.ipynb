{
 "metadata": {
  "name": "",
  "signature": "sha256:e0317c59003683fb084ffee7c9be5ad418f7747673e00c81625efc8793321add"
 },
 "nbformat": 3,
 "nbformat_minor": 0,
 "worksheets": [
  {
   "cells": [
    {
     "cell_type": "heading",
     "level": 1,
     "metadata": {},
     "source": [
      "Scientific Python: Numpy"
     ]
    }
   ],
   "metadata": {}
  }
 ]
}