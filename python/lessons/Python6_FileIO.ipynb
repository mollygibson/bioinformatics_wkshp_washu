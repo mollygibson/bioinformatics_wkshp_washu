{
 "metadata": {
  "name": "",
  "signature": "sha256:d9499a0104557ff3853afa0005200cfe8d6b6abb2349b598d808715e743e0226"
 },
 "nbformat": 3,
 "nbformat_minor": 0,
 "worksheets": [
  {
   "cells": [
    {
     "cell_type": "heading",
     "level": 1,
     "metadata": {},
     "source": [
      "Reading and Writing Files"
     ]
    }
   ],
   "metadata": {}
  }
 ]
}