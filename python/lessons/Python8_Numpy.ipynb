{
 "metadata": {
  "name": "",
  "signature": "sha256:66d0468627d5ca3f5ba864451725d22022c90c8af02315303e58f2cb448d644d"
 },
 "nbformat": 3,
 "nbformat_minor": 0,
 "worksheets": [
  {
   "cells": [
    {
     "cell_type": "markdown",
     "metadata": {},
     "source": [
      "# Scientific Python: Numpy\n",
      "\n",
      "NumPy is the fundamental package for scientific computing in Python. It conains among other things:\n",
      "\n",
      "1. a powerful N-dimensional array object\n",
      "2. sophisticated functions\n",
      "\n",
      "\n"
     ]
    }
   ],
   "metadata": {}
  }
 ]
}