{
 "metadata": {
  "name": "",
  "signature": "sha256:027ce9d75f177e62c5ecb1643ae920ab0c45d17a7ba1240d55859dcd60bea891"
 },
 "nbformat": 3,
 "nbformat_minor": 0,
 "worksheets": [
  {
   "cells": [
    {
     "cell_type": "heading",
     "level": 1,
     "metadata": {},
     "source": [
      "Repeating yourself"
     ]
    },
    {
     "cell_type": "markdown",
     "metadata": {},
     "source": [
      "In this section and the next, we really start to take advantage of the power of programming languages to do things\n",
      "for us automatically.\n",
      "\n",
      "We start here with ways to repeat yourself. The two most common ways of doing this are known as **for\n",
      "loops** and **while loops**. For loops in Python are useful when you want to cycle over all of the items\n",
      "in a collection (such as all of the elements of an array), and while loops are useful when you want to\n",
      "cycle for an indefinite amount of time until some condition is met.\n",
      "\n",
      "The basic examples below will work for looping over lists, tuples, and arrays. Looping over dictionaries\n",
      "is a bit different, since there is a key and a value for each item in a dictionary. Have a look at the\n",
      "Python docs for more information.\n",
      "\n",
      "* Intention, sometimes referred to as *white space*, matters:\n",
      "\n",
      "        >>> wordlist = ['hi', 'hello', 'bye']\n",
      "        >>> for word in wordlist:\n",
      "        ...     print word + '!'\n",
      "    Every idented statement after the for loop declaration is part of the for loop.  This rule holds true for while loops, if statements, functions, etc. Required identation is one of the reasons Python is such a beautiful language to read.\n",
      "    \n",
      "    If you do not have consistent indentation you will get an `IndentationError`.  Fortunately, most code editors will ensure your indentation is correction.\n",
      "        \n",
      "    *Note:* to complete the for loop in the interpreter, type control+enter\n",
      "    \n",
      "    \n",
      "* For loops can perform calculations on numbers"
     ]
    }
   ],
   "metadata": {}
  }
 ]
}