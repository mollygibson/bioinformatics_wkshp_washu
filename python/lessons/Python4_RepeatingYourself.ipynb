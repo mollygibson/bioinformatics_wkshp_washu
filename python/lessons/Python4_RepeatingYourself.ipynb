{
 "metadata": {
  "name": "",
  "signature": "sha256:e870b0fe40667653b5177dd044df941cb7d117bf217d512325d73c4e368f8376"
 },
 "nbformat": 3,
 "nbformat_minor": 0,
 "worksheets": [
  {
   "cells": [
    {
     "cell_type": "markdown",
     "metadata": {},
     "source": [
      "In this section and the next, we really start to take advantage of the power of programming languages to do things\n",
      "for us automatically.\n",
      "\n",
      "We start here with ways to repeat yourself. The two most common ways of doing this are known as **for\n",
      "loops** and **while loops**. For loops in Python are useful when you want to cycle over all of the items\n",
      "in a collection (such as all of the elements of an array), and while loops are useful when you want to\n",
      "cycle for an indefinite amount of time until some condition is met.\n",
      "\n",
      "The basic examples below will work for looping over lists, tuples, and arrays. Looping over dictionaries\n",
      "is a bit different, since there is a key and a value for each item in a dictionary. Have a look at the\n",
      "Python docs for more information."
     ]
    }
   ],
   "metadata": {}
  }
 ]
}