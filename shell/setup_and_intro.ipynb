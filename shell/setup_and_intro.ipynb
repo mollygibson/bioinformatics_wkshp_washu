{
 "metadata": {
  "name": "",
  "signature": "sha256:8aa616de1a0f632299c1ac26afdcfa6fb881fa4da662fd678b06c4a9d8fc36d2"
 },
 "nbformat": 3,
 "nbformat_minor": 0,
 "worksheets": [
  {
   "cells": [
    {
     "cell_type": "heading",
     "level": 1,
     "metadata": {},
     "source": [
      "Our goal for the next 3 days"
     ]
    },
    {
     "cell_type": "heading",
     "level": 1,
     "metadata": {},
     "source": [
      "What is the point?"
     ]
    },
    {
     "cell_type": "markdown",
     "metadata": {},
     "source": [
      "Learning to program takes time. Why take that time away from research/lab to learn to program? \n",
      "\n",
      "Ignoring the term 'geek' right now, this is a view of the world and how data analysis and reserach is performed now:\n",
      "\n",
      "<img src='geeks-win-eventually.png' width=\"500\">"
     ]
    },
    {
     "cell_type": "markdown",
     "metadata": {},
     "source": [
      "...and this is a view that we are hoping to help achieve:\n",
      "\n",
      "<img src='alternate-view-of-automation.png' width=\"500\">"
     ]
    },
    {
     "cell_type": "heading",
     "level": 1,
     "metadata": {},
     "source": [
      "Before we begin"
     ]
    },
    {
     "cell_type": "markdown",
     "metadata": {},
     "source": [
      "1. All materials are available through our [website](https://cgs.wustl.edu/~mgibson/bioinformatics/). Bookmark this page for easy access. It will be available for a reasonable amount of time following the course.\n",
      "\n",
      "2. We will use a sticky note system to guage the progress and speed of the course. Everyone should have a green and red sticky note. As expected, green=\"I'm good\" and red=\"I need help\". Throughout the tutorials, there will be symbols:\n",
      "<img src=\"stopgo.jpeg\" width=\"100\" float=\"left\"> \n",
      "Please stop make sure to update your status at these checkpoints. We will stop until everyone has a green sticky note up, indicating we are ready to move on.\n",
      "\n",
      "3. Ask questions! Be interactive! If you have a question, it is likely that others do too."
     ]
    },
    {
     "cell_type": "heading",
     "level": 1,
     "metadata": {},
     "source": [
      "What is the shell and how do I access it?"
     ]
    },
    {
     "cell_type": "markdown",
     "metadata": {},
     "source": [
      "The **shell** is a program that presents a command line interface\n",
      "which allows you to control your computer using commands entered\n",
      "with a keyboard instead of controlling graphical user interfaces\n",
      "(GUIs) with a mouse/keyboard combination.\n",
      "\n",
      "A **terminal** is a program you run that gives you access to the\n",
      "shell. There are many different terminal programs that vary across\n",
      "operating systems.\n",
      "\t \n",
      "There are many reasons to learn about the shell. In my opinion, the\n",
      "most important reasons are that: \n",
      "\n",
      "1.  It is very common to encounter the shell and\n",
      "    command-line-interfaces in scientific computing, so you will\n",
      "    probably have to learn it eventually \n",
      "\n",
      "2.  The shell is a really powerful way of interacting with your\n",
      "    computer. GUIs and the shell are complementary - by knowing both\n",
      "    you will greatly expand the range of tasks you can accomplish with\n",
      "    your computer. You will also be able to perform many tasks more\n",
      "    efficiently.\n",
      "    \n",
      "The shell is just a program and there are many different shell\n",
      "programs that have been developed. The most common shell (and the one\n",
      "we will use) is called the Bourne-Again SHell (**bash**). Even if bash is\n",
      "not the default shell, it is usually installed on most systems and can be\n",
      "started by typing `bash` in the terminal. Many commands, especially a\n",
      "lot of the basic ones, work across the various shells but many things\n",
      "are different. I recommend sticking with bash and learning it well.\n",
      "([Here is a link for more information](http://en.wikipedia.org/wiki/Bash_Unix_shell))"
     ]
    },
    {
     "cell_type": "heading",
     "level": 3,
     "metadata": {},
     "source": [
      "Access to shell: Terminal & PuTTY"
     ]
    },
    {
     "cell_type": "markdown",
     "metadata": {},
     "source": [
      "#### For Mac users\n",
      "The default shell in all versions of Mac OS X is bash, so no need to install anything. You access bash from the Terminal (found in /Applications/Utilities). You may want to keep Terminal in your dock for this workshop.\n",
      "\n",
      "#### For Windows users\n",
      "PuTTY is a secure shell client (which we will talk about next) and will allow you access to a command-line environment.  To install PuTTY, download the [PuTTY installer](http://the.earth.li/~sgtatham/putty/latest/x86/putty-0.63-installer.exe), double-click the downloaded file, and follow the installation wizard. "
     ]
    },
    {
     "cell_type": "markdown",
     "metadata": {},
     "source": [
      "<img src=\"stopgo.jpeg\" width=\"100\" float=\"left\"> "
     ]
    },
    {
     "cell_type": "heading",
     "level": 1,
     "metadata": {},
     "source": [
      "Logging onto a remote computer"
     ]
    },
    {
     "cell_type": "markdown",
     "metadata": {},
     "source": [
      "During this bootcamp, we will be doing all of our work on a remote computer with the **hostname** *genomic.wustl.edu*. This is a unix based computer that we can securely connect to through a protocol called **SSH** or [secure shell](http://en.wikipedia.org/wiki/Secure_Shell).\n",
      "\n",
      "Your username and password were sent to you in an email earlier this week.\n",
      "\n",
      "### For Mac users\n",
      "* Open `Terminal` (found in `/Applications/Utilities`).\n",
      "<img src=\"terminal1.png\" width=\"430\" float=\"left\">\n",
      "* The syntax to log onto a remote machine using SHH is: `ssh username@hostname`. The hostname for this workshop is `genomic.wustl.edu`.  Type `ssh username@genomic.wustl.edu` and replace `username` with your username.\n",
      "* A security message will be printed. Type yes and hit enter.    \n",
      "<img src=\"terminal2.png\" width=\"430\" float=\"left\">\n",
      "* Enter your password - *it will not show that you are typing!* Hit enter.\n",
      "<img src=\"terminal3.png\" width=\"430\" float=\"left\">\n",
      "\n",
      "### For Windows users\n",
      "* Locate the file `putty.exe` on your computer.  (It's most likely located here: `C:\\Program Files (x86)\\Putty`.)  Double-click on the `putty.exe` file to launch.\n",
      "<img src=\"putty1.png\" width=\"430\" float=\"left\"> \n",
      "* In the `Host Name` textbox, type `genomic.wustl.edu`.\n",
      "<img src=\"putty2.png\" width=\"430\" float=\"left\">\n",
      "* Click `Open`.  A Putty Scuerity Alert window will pop up.  Click `Yes`.\n",
      "<img src=\"putty3.png\" width=\"430\" float=\"left\"> \n",
      "* Enter your username and hit enter.\n",
      "<img src=\"putty5.png\" width=\"430\" float=\"left\">\n",
      "* Enter your password - *it will not show that you are typing!* Hit enter.\n",
      "<img src=\"putty6.png\" width=\"430\" float=\"left\">\n",
      "\n",
      "### Things to notice:\n",
      "* When you log onto `genomic.wustl.edu`, you will be located in YOUR home directory.\n",
      "* Every command that you run after logging onto a remote computer will be run on *that computer*."
     ]
    },
    {
     "cell_type": "heading",
     "level": 1,
     "metadata": {},
     "source": [
      "Changing your password"
     ]
    },
    {
     "cell_type": "markdown",
     "metadata": {},
     "source": [
      "The first thing we will do is change your password. The command is <code>passwd</code>. It will then ask you for your current password and your new password twice. Remember, when typing your password - *it will not show that you are typing!* \n",
      "\n",
      "    mgibson@genomic:~$ passwd\n",
      "    Changing password for mgibson.\n",
      "    (current) UNIX password: \n",
      "    Enter new UNIX password: \n",
      "    Retype new UNIX password: \n",
      "    passwd: password updated successfully"
     ]
    },
    {
     "cell_type": "markdown",
     "metadata": {},
     "source": [
      "<img src=\"stopgo.jpeg\" width=\"100\" float=\"left\"> "
     ]
    }
   ],
   "metadata": {}
  }
 ]
}