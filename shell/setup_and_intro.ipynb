{
 "metadata": {
  "name": "",
  "signature": "sha256:697126d9a674b44a16b890e90846ce83a3edbf14ff1f9672035a38974b4286bf"
 },
 "nbformat": 3,
 "nbformat_minor": 0,
 "worksheets": [
  {
   "cells": [
    {
     "cell_type": "heading",
     "level": 1,
     "metadata": {},
     "source": [
      "What is the shell and how do I access it?"
     ]
    },
    {
     "cell_type": "markdown",
     "metadata": {},
     "source": [
      "The **shell** is a program that presents a command line interface\n",
      "which allows you to control your computer using commands entered\n",
      "with a keyboard instead of controlling graphical user interfaces\n",
      "(GUIs) with a mouse/keyboard combination.\n",
      "\n",
      "A **terminal** is a program you run that gives you access to the\n",
      "shell. There are many different terminal programs that vary across\n",
      "operating systems.\n",
      "\t \n",
      "There are many reasons to learn about the shell. In my opinion, the\n",
      "most important reasons are that: \n",
      "\n",
      "1.  It is very common to encounter the shell and\n",
      "    command-line-interfaces in scientific computing, so you will\n",
      "    probably have to learn it eventually \n",
      "\n",
      "2.  The shell is a really powerful way of interacting with your\n",
      "    computer. GUIs and the shell are complementary - by knowing both\n",
      "    you will greatly expand the range of tasks you can accomplish with\n",
      "    your computer. You will also be able to perform many tasks more\n",
      "    efficiently.\n",
      "    \n",
      "The shell is just a program and there are many different shell\n",
      "programs that have been developed. The most common shell (and the one\n",
      "we will use) is called the Bourne-Again SHell (**bash**). Even if bash is\n",
      "not the default shell, it is usually installed on most systems and can be\n",
      "started by typing `bash` in the terminal. Many commands, especially a\n",
      "lot of the basic ones, work across the various shells but many things\n",
      "are different. I recommend sticking with bash and learning it well.\n",
      "([Here is a link for more information](http://en.wikipedia.org/wiki/Bash_(Unix_shell))"
     ]
    },
    {
     "cell_type": "heading",
     "level": 3,
     "metadata": {},
     "source": [
      "Access to shell: Terminal & PuTTY"
     ]
    },
    {
     "cell_type": "markdown",
     "metadata": {},
     "source": [
      "*For Mac users:*\n",
      "The default shell in all versions of Mac OS X is bash, so no need to install anything. You access bash from the Terminal (found in /Applications/Utilities). You may want to keep Terminal in your dock for this workshop.\n",
      "\n",
      "*For Windows users:*\n",
      "Download and install [PuTTY](http://www.chiark.greenend.org.uk/~sgtatham/putty/download.html). This is a secure shell client (which we will talk about next) and will allow you access to a command-line environment."
     ]
    },
    {
     "cell_type": "heading",
     "level": 1,
     "metadata": {},
     "source": [
      "Logging onto a Remote Computer"
     ]
    },
    {
     "cell_type": "markdown",
     "metadata": {},
     "source": [
      "During this bootcamp, we will be doing all of our work on a remote computer with the **hostname** *genomic.wustl.edu*. This is a unix based computer that we can securely connect to through a protocol called **SSH** or [secure shell](http://en.wikipedia.org/wiki/Secure_Shell).\n",
      "\n",
      "They syntax to log onto a remote machine using SHH is: *ssh username@hostname*. For example:\n",
      "\n",
      "    ssh mgibson@genomic.wustl.edu\n",
      "\n",
      "Things to notice:\n",
      "* You will need to enter your password - *it will not show that you are typing!*\n",
      "* When you log onto *genomic.wustl.edu*, you will be located in YOUR home directory\n",
      "* Every command that you run after logging onto a remote computer will be run on *that computer*\n",
      "\n"
     ]
    },
    {
     "cell_type": "heading",
     "level": 1,
     "metadata": {},
     "source": [
      "Moving Around Directory Structures"
     ]
    },
    {
     "cell_type": "code",
     "collapsed": false,
     "input": [],
     "language": "python",
     "metadata": {},
     "outputs": []
    }
   ],
   "metadata": {}
  }
 ]
}