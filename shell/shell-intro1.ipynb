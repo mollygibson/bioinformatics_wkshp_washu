{
 "metadata": {
  "name": "",
  "signature": "sha256:c0dc387b2c489b16d4e33bbf3c6c97ecfaf3e176b88208f5cac3900e165f070b"
 },
 "nbformat": 3,
 "nbformat_minor": 0,
 "worksheets": [
  {
   "cells": [
    {
     "cell_type": "heading",
     "level": 1,
     "metadata": {},
     "source": [
      "Unix directories and file structure"
     ]
    },
    {
     "cell_type": "markdown",
     "metadata": {},
     "source": [
      "You are probably used to working with programs like the Apple Finder or the Windows File\n",
      "Explorer to navigate around the hard drive of your computer. Some people are so used to\n",
      "using the mouse to move files, drag files to trash etc. that it can seem strange switching from\n",
      "this behavior to **typing commands instead**. Be patient, and try \u2014 as much as possible \u2014 to\n",
      "**stay within world of the Unix terminal**. Please make sure you complete and understand each\n",
      "task before moving on to the next one."
     ]
    },
    {
     "cell_type": "markdown",
     "metadata": {},
     "source": [
      "Unix keeps files arranged in a hierarchical structure. From the \u2018top-level\u2019 of the computer, there\n",
      "will be a number of directories, each of which can contain files and subdirectories, and each of\n",
      "those in turn can of course contain more files and directories and so on, ad infinitum. It\u2019s\n",
      "important to note that you will always be \u201cin\u201d a directory when using the terminal. The default\n",
      "behavior is that when you open a new terminal you start in your own \u2019home\u201d directory\n",
      "(containing files and directories that only you can modify)."
     ]
    },
    {
     "cell_type": "heading",
     "level": 4,
     "metadata": {},
     "source": [
      "New command: <code>ls</code>"
     ]
    },
    {
     "cell_type": "markdown",
     "metadata": {},
     "source": [
      "To see what files are in our home directory, we need to use the <code>ls</code> command. This command\n",
      "\u2018lists\u2019 the contents of a directory:\n",
      "\n",
      "    mgibson@genomic:~$ ls\n",
      "    bootcamp-users.passwd\n",
      "    \n",
      "In my home directory, I have one file named <code>bootcamp-users.passwd</code>. Although in reality, I have more files than that. I also have **hidden files**. These are folders or files which are not displayed by default when showing a directory listing. They are commonly used for storing user preferences or preserving the state of a utility."
     ]
    },
    {
     "cell_type": "heading",
     "level": 4,
     "metadata": {},
     "source": [
      "Getting help: <code>--help</code>"
     ]
    },
    {
     "cell_type": "code",
     "collapsed": false,
     "input": [],
     "language": "python",
     "metadata": {},
     "outputs": []
    }
   ],
   "metadata": {}
  }
 ]
}